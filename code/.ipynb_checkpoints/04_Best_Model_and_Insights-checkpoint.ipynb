{
 "cells": [
  {
   "cell_type": "markdown",
   "id": "3aa9e17f-e61d-404c-b855-2d6074b80b3c",
   "metadata": {
    "tags": []
   },
   "source": [
    "<h1 align=\"center\"><span style='font-weight: bold;'>Whole-Food Plant-Based vs. Paleo:</span><br />Identifying the best-performing classification model</h1>\n",
    "\n",
    "---\n",
    "<h2 align=\"center\"><span style='font-weight: bold;'>04: Best Model & Insights</span></h2>\n",
    "\n",
    "---"
   ]
  },
  {
   "cell_type": "markdown",
   "id": "2e55aeb8-d055-47e1-a889-b6268b0a9804",
   "metadata": {},
   "source": [
    "**With the XGBoost emerging as the best-performing model, we'll recreate the model here so we can dig into it some more.**"
   ]
  },
  {
   "cell_type": "markdown",
   "id": "8b75b17b-46b6-4d19-971a-55315c5e41df",
   "metadata": {},
   "source": [
    "## Imports"
   ]
  },
  {
   "cell_type": "code",
   "execution_count": 14,
   "id": "a74dd66e-59e2-4eba-9c30-1af5a586c5cd",
   "metadata": {},
   "outputs": [],
   "source": [
    "import pandas as pd\n",
    "import matplotlib.pyplot as plt\n",
    "\n",
    "from nltk.tokenize import word_tokenize\n",
    "from nltk.stem import WordNetLemmatizer\n",
    "from nltk.corpus import stopwords\n",
    "from sklearn.feature_extraction.text import TfidfVectorizer\n",
    "from sklearn.pipeline import Pipeline\n",
    "\n",
    "from sklearn.model_selection import train_test_split, cross_val_score, RandomizedSearchCV\n",
    "from xgboost import XGBClassifier\n",
    "\n",
    "from sklearn.metrics import confusion_matrix, plot_confusion_matrix, accuracy_score, recall_score, precision_score, f1_score\n",
    "\n",
    "import warnings\n",
    "warnings.simplefilter(action='ignore', category=FutureWarning)"
   ]
  },
  {
   "cell_type": "markdown",
   "id": "e1c0c79a-1427-4eed-b90c-dae0afcd9ebb",
   "metadata": {},
   "source": [
    "## Load Data"
   ]
  },
  {
   "cell_type": "code",
   "execution_count": 15,
   "id": "c273e872-5c05-4492-82da-0e37ea8bf688",
   "metadata": {},
   "outputs": [],
   "source": [
    "diets = pd.read_csv('../data/diets.csv')"
   ]
  },
  {
   "cell_type": "markdown",
   "id": "d247669a-acaf-4339-88e2-7abae90f5c63",
   "metadata": {},
   "source": [
    "## Train/Test Split"
   ]
  },
  {
   "cell_type": "code",
   "execution_count": 16,
   "id": "1347bcbc-d2d1-4d78-a195-39376eb72ef1",
   "metadata": {},
   "outputs": [],
   "source": [
    "X = diets['title']\n",
    "y = diets['subreddit']\n",
    "\n",
    "X_train, X_test, y_train, y_test = train_test_split(X, \n",
    "                                                    y, \n",
    "                                                    test_size=0.2, \n",
    "                                                    random_state=42, \n",
    "                                                    stratify=y)"
   ]
  },
  {
   "cell_type": "code",
   "execution_count": 17,
   "id": "966b5367-8ee1-45b8-9931-94ea535ee695",
   "metadata": {},
   "outputs": [
    {
     "data": {
      "text/plain": [
       "((7994,), (1999,))"
      ]
     },
     "execution_count": 17,
     "metadata": {},
     "output_type": "execute_result"
    }
   ],
   "source": [
    "X_train.shape, X_test.shape"
   ]
  },
  {
   "cell_type": "code",
   "execution_count": 18,
   "id": "4a832ca0-5934-4e64-ad96-e2a4b61e3665",
   "metadata": {},
   "outputs": [
    {
     "data": {
      "text/plain": [
       "((7994,), (1999,))"
      ]
     },
     "execution_count": 18,
     "metadata": {},
     "output_type": "execute_result"
    }
   ],
   "source": [
    "y_train.shape, y_test.shape"
   ]
  },
  {
   "cell_type": "markdown",
   "id": "83ca2f28-a8a1-4287-95f2-51c6dd81b095",
   "metadata": {},
   "source": [
    "## Production Model and Insights"
   ]
  },
  {
   "cell_type": "markdown",
   "id": "2bf08969-e6b3-4423-b905-ef8cf0bf3add",
   "metadata": {},
   "source": [
    "### TfidfVectorizer Parameter Set-Up"
   ]
  },
  {
   "cell_type": "code",
   "execution_count": 19,
   "id": "d2e63870-08a9-495c-aa5c-81db7021abed",
   "metadata": {},
   "outputs": [],
   "source": [
    "# Creating a Lemmatizer object to include as a tokenizer in the TfidfVectorizer\n",
    "# Help from here: https://stackoverflow.com/questions/47423854/sklearn-adding-lemmatizer-to-countvectorizer\n",
    "\n",
    "class LemmaTokenizer(object):\n",
    "    def __init__(self):\n",
    "        self.wnl = WordNetLemmatizer()\n",
    "    def __call__(self, articles):\n",
    "        return [self.wnl.lemmatize(t) for t in word_tokenize(articles)]"
   ]
  },
  {
   "cell_type": "code",
   "execution_count": 20,
   "id": "2750a063-4063-44ed-bc16-d66ed166afb6",
   "metadata": {},
   "outputs": [],
   "source": [
    "# Modifying the stopwords list\n",
    "\n",
    "stopwords = stopwords.words('english')\n",
    "new_stop_words = ['amp', \"'d\", \"'ll\", \"'re\", \"'s\", \"'ve\", 'could', 'doe', 'ha', 'might', 'must', \"n't\", 'need', 'sha', 'wa', 'wo', 'would']\n",
    "stopwords.extend(new_stop_words)"
   ]
  },
  {
   "cell_type": "markdown",
   "id": "28e5bd51-54b2-4d54-aa77-b62ca2eef59d",
   "metadata": {},
   "source": [
    "### XGBClassifier"
   ]
  },
  {
   "cell_type": "code",
   "execution_count": 21,
   "id": "ff0edb2a-1494-4b94-8bfc-c46ac3941634",
   "metadata": {},
   "outputs": [],
   "source": [
    "xgb_pipe = Pipeline([\n",
    "    ('xgb_tvec', TfidfVectorizer(lowercase=True, \n",
    "                             preprocessor=None,\n",
    "                             tokenizer=LemmaTokenizer(),\n",
    "                             stop_words=stopwords,\n",
    "                             analyzer='word')), \n",
    "    ('xgb', XGBClassifier(random_state=42))\n",
    "])"
   ]
  },
  {
   "cell_type": "code",
   "execution_count": 22,
   "id": "65c16d00-d6ac-4fce-b097-daf1e275e1bf",
   "metadata": {
    "tags": []
   },
   "outputs": [
    {
     "data": {
      "text/plain": [
       "0.7935958472543838"
      ]
     },
     "execution_count": 22,
     "metadata": {},
     "output_type": "execute_result"
    }
   ],
   "source": [
    "cross_val_score(xgb_pipe, X_train, y_train, cv=3).mean()"
   ]
  },
  {
   "cell_type": "code",
   "execution_count": 23,
   "id": "1ba103f3-1378-4a03-bd87-d820cb4bef6c",
   "metadata": {},
   "outputs": [
    {
     "name": "stdout",
     "output_type": "stream",
     "text": [
      "0.8551413560170128\n",
      "0.807903951975988\n"
     ]
    }
   ],
   "source": [
    "xgb_pipe.fit(X_train, y_train)\n",
    "print(xgb_pipe.score(X_train, y_train))\n",
    "print(xgb_pipe.score(X_test, y_test))"
   ]
  },
  {
   "cell_type": "code",
   "execution_count": 24,
   "id": "50000e47-a6b6-4807-a785-bbf8a441e20c",
   "metadata": {},
   "outputs": [],
   "source": [
    "# Setting hyper-parameters that RandomizedSearchCV will search through\n",
    "\n",
    "xgb_pipe_params = {\n",
    "    'xgb_tvec__max_features' : [None, 1000, 2000, 4000],\n",
    "    'xgb_tvec__min_df' : [1, 2, 3, 5],\n",
    "    'xgb_tvec__max_df' : [0.25, 0.75, .90],\n",
    "    'xgb_tvec__ngram_range' : [(1,1),(1, 2)],\n",
    "    'xgb__learning_rate': [1.0, 2.0, 3.0],\n",
    "    'xgb__n_estimators': [10, 50, 100]\n",
    "}"
   ]
  },
  {
   "cell_type": "code",
   "execution_count": 25,
   "id": "0e98edbc-18c7-4c08-b258-ee5f82372419",
   "metadata": {},
   "outputs": [],
   "source": [
    "# RandomizedSearchCV will sample 10 parameter settings to reduce runtime\n",
    "\n",
    "xgb_rs = RandomizedSearchCV(xgb_pipe,\n",
    "                 param_distributions = xgb_pipe_params, \n",
    "                 n_iter=10,\n",
    "                 cv = 3,\n",
    "                 random_state=42)"
   ]
  },
  {
   "cell_type": "code",
   "execution_count": 26,
   "id": "8caf362d-8216-4f8c-8df7-fc5a22367d49",
   "metadata": {},
   "outputs": [
    {
     "name": "stdout",
     "output_type": "stream",
     "text": [
      "{'xgb_tvec__ngram_range': (1, 2), 'xgb_tvec__min_df': 5, 'xgb_tvec__max_features': 2000, 'xgb_tvec__max_df': 0.25, 'xgb__n_estimators': 10, 'xgb__learning_rate': 1.0}\n",
      "0.7824624342917025\n",
      "0.8124843632724543\n",
      "0.7968984492246123\n"
     ]
    }
   ],
   "source": [
    "xgb_rs.fit(X_train, y_train)\n",
    "\n",
    "print(xgb_rs.best_params_)\n",
    "print(xgb_rs.best_score_)\n",
    "print(xgb_rs.score(X_train, y_train))\n",
    "print(xgb_rs.score(X_test, y_test))"
   ]
  },
  {
   "cell_type": "markdown",
   "id": "0d498302-cebb-4c94-abf5-a71ae90e2e48",
   "metadata": {},
   "source": [
    "**With the above parameters, the XGBoost model achieved a traning accuracy of 0.8124 and a testing accuracy of 0.7968. This model is only slightly overfit with a difference of 0.0156.**"
   ]
  },
  {
   "cell_type": "markdown",
   "id": "168e17dd-48a8-49e7-9a2d-68a55d5b96cd",
   "metadata": {},
   "source": [
    "**Though the overall accuracy was the metric to optimize, the creation of a confusion matrix was helpful in seeing if the model was equally accurate between the diets, or if it favored one over the other.**"
   ]
  },
  {
   "cell_type": "code",
   "execution_count": 27,
   "id": "cec59af7-1efc-48a4-bfb2-a1aa16c64f7e",
   "metadata": {},
   "outputs": [],
   "source": [
    "y_pred = xgb_rs.predict(X_test)"
   ]
  },
  {
   "cell_type": "code",
   "execution_count": 28,
   "id": "529c59ad-a0d9-4d5c-a543-4af29a9d8b77",
   "metadata": {},
   "outputs": [],
   "source": [
    "tn, fp, fn, tp = confusion_matrix(y_test, y_pred).ravel()"
   ]
  },
  {
   "cell_type": "code",
   "execution_count": 30,
   "id": "e8d359c4-3dd8-4ef8-8aa1-a0de577f2518",
   "metadata": {},
   "outputs": [
    {
     "data": {
      "image/png": "[encoded data removed]",
      "text/plain": [
       "<Figure size 432x288 with 2 Axes>"
      ]
     },
     "metadata": {
      "needs_background": "light"
     },
     "output_type": "display_data"
    }
   ],
   "source": [
    "plot_confusion_matrix(xgb_rs, X_test, y_test, cmap='Blues', values_format='d', display_labels=['plant_based',  'paleo']);"
   ]
  },
  {
   "cell_type": "code",
   "execution_count": 31,
   "id": "3c067f83-e68d-45c6-ae66-863b20466ea3",
   "metadata": {},
   "outputs": [
    {
     "data": {
      "text/plain": [
       "0.7968984492246123"
      ]
     },
     "execution_count": 31,
     "metadata": {},
     "output_type": "execute_result"
    }
   ],
   "source": [
    "# Accuracy\n",
    "accuracy_score(y_test, y_pred)"
   ]
  },
  {
   "cell_type": "code",
   "execution_count": 32,
   "id": "a7896b77-762b-44b9-9f8e-bec8aa789e1f",
   "metadata": {},
   "outputs": [
    {
     "data": {
      "text/plain": [
       "0.933933933933934"
      ]
     },
     "execution_count": 32,
     "metadata": {},
     "output_type": "execute_result"
    }
   ],
   "source": [
    "# Specificity - Optimize TN (909), No FP (90)\n",
    "tn / (tn + fp)"
   ]
  },
  {
   "cell_type": "code",
   "execution_count": 33,
   "id": "b9fca6d3-456a-4c9c-a2b6-00abfda3b94d",
   "metadata": {},
   "outputs": [
    {
     "data": {
      "text/plain": [
       "0.66"
      ]
     },
     "execution_count": 33,
     "metadata": {},
     "output_type": "execute_result"
    }
   ],
   "source": [
    "# Sensitivity (Recall) - Optimizing for TP (687), No FN (313)\n",
    "recall_score(y_test, y_pred)"
   ]
  },
  {
   "cell_type": "markdown",
   "id": "736b50a5-c840-42de-b707-3c7e09c37aeb",
   "metadata": {},
   "source": [
    "**With plant-based being negative (0) and paleo being positive (1), the model seemed to favor the plant-based diet. Of the 2,000 submissions used to test:**\n",
    "\n",
    "* 933 were true negatives (guessed plant-based, truly plant-based)\n",
    "* 660 were true positives (guessed paleo, truly paleo)\n",
    "* 340 were false negatives (guessed plant-based, actually paleo)\n",
    "* 66 were false positives (guessed paleo, actually plant-based)\n",
    "\n",
    "**This means that the model is optimizing for true negatives with a 93% accuracy, while the accuracy for true positives is 66%. Therefore, this model is better at predicting plant-based submissions.**\n",
    "\n",
    "---\n",
    "\n",
    "## Conclusion: Recommendations and Next Steps\n",
    "\n",
    "It’s recommended to keep the XGBoost classification model in mind as a best-performer, as it showed the most promising results despite the imbalance in accuracy between the diets.\n",
    "\n",
    "With the plant-based and paleo datasets, it will be beneficial to identify the words that could be causing the paleo submissions to be mistaken for plant-based submissions. Removing words relating to the diets’ commonalities, such as fruits and vegetables, may result in model improvement. It will also be beneficial to pull more submissions from each subreddit and run the model on larger datasets.\n",
    "\n",
    "The XGBoost model should also be tried with other diet datasets, such as Mediterranean, Keto, Vegetarian, Gluten-Free, etc. to see how it performs there."
   ]
  }
 ],
 "metadata": {
  "kernelspec": {
   "display_name": "Python 3 (ipykernel)",
   "language": "python",
   "name": "python3"
  },
  "language_info": {
   "codemirror_mode": {
    "name": "ipython",
    "version": 3
   },
   "file_extension": ".py",
   "mimetype": "text/x-python",
   "name": "python",
   "nbconvert_exporter": "python",
   "pygments_lexer": "ipython3",
   "version": "3.9.7"
  }
 },
 "nbformat": 4,
 "nbformat_minor": 5
}
