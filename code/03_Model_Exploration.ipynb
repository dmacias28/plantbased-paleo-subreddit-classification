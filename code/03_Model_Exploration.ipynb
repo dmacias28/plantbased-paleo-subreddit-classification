{
 "cells": [
  {
   "cell_type": "markdown",
   "id": "ca386d62-bc3d-4aeb-ab69-e5bcc2a0cf21",
   "metadata": {
    "tags": []
   },
   "source": [
    "<h1 align=\"center\"><span style='font-weight: bold;'>Whole-Food Plant-Based vs. Paleo:</span><br />Identifying the best-performing classification model</h1>\n",
    "\n",
    "---\n",
    "<h2 align=\"center\"><span style='font-weight: bold;'>03: Model Exploration</span></h2>\n",
    "\n",
    "---"
   ]
  },
  {
   "cell_type": "markdown",
   "id": "345624a6-7e0c-4498-a85f-6c22d0b1c3f9",
   "metadata": {},
   "source": [
    "## Imports"
   ]
  },
  {
   "cell_type": "code",
   "execution_count": 1,
   "id": "71535fb7-810d-4556-bdaf-340d28470fd0",
   "metadata": {},
   "outputs": [],
   "source": [
    "import pandas as pd\n",
    "import matplotlib.pyplot as plt\n",
    "\n",
    "from nltk.tokenize import word_tokenize\n",
    "from nltk.stem import WordNetLemmatizer\n",
    "from nltk.corpus import stopwords\n",
    "from sklearn.feature_extraction.text import TfidfVectorizer\n",
    "from sklearn.pipeline import Pipeline\n",
    "\n",
    "from sklearn.model_selection import train_test_split, cross_val_score, GridSearchCV, RandomizedSearchCV\n",
    "from sklearn.ensemble import RandomForestClassifier\n",
    "from sklearn.linear_model import LogisticRegression\n",
    "from sklearn.neighbors import KNeighborsClassifier\n",
    "from sklearn.ensemble import AdaBoostClassifier, GradientBoostingClassifier\n",
    "from xgboost import XGBClassifier\n",
    "from sklearn.svm import SVC\n",
    "from sklearn.naive_bayes import BernoulliNB\n",
    "from sklearn.naive_bayes import MultinomialNB\n",
    "\n",
    "from sklearn.metrics import accuracy_score\n",
    "\n",
    "import warnings\n",
    "warnings.simplefilter(action='ignore', category=FutureWarning)\n",
    "\n",
    "pd.options.display.max_colwidth = 400"
   ]
  },
  {
   "cell_type": "markdown",
   "id": "ce7273ef-5137-41ad-8c3d-b779c28b8e70",
   "metadata": {},
   "source": [
    "## Load Data"
   ]
  },
  {
   "cell_type": "code",
   "execution_count": 2,
   "id": "8b56d084-992b-411a-88aa-02cba9e70d0e",
   "metadata": {},
   "outputs": [],
   "source": [
    "diets = pd.read_csv('../data/diets.csv')"
   ]
  },
  {
   "cell_type": "markdown",
   "id": "95ebd6ed-929e-41b6-801c-cf1fef8f04db",
   "metadata": {},
   "source": [
    "## Basic Re-Checks"
   ]
  },
  {
   "cell_type": "code",
   "execution_count": 3,
   "id": "b3d24b87-c2e1-48d7-a2c0-9d8525c5927e",
   "metadata": {},
   "outputs": [
    {
     "data": {
      "text/plain": [
       "(9993, 2)"
      ]
     },
     "execution_count": 3,
     "metadata": {},
     "output_type": "execute_result"
    }
   ],
   "source": [
    "diets.shape"
   ]
  },
  {
   "cell_type": "code",
   "execution_count": 4,
   "id": "5fd4fa9f-929d-4d8e-aa46-f8ac744e388a",
   "metadata": {},
   "outputs": [
    {
     "data": {
      "text/plain": [
       "subreddit    0\n",
       "title        0\n",
       "dtype: int64"
      ]
     },
     "execution_count": 4,
     "metadata": {},
     "output_type": "execute_result"
    }
   ],
   "source": [
    "diets.isnull().sum()"
   ]
  },
  {
   "cell_type": "code",
   "execution_count": 5,
   "id": "d04dd7ac-3fc4-4c0e-9db7-7ecdfeb1174f",
   "metadata": {},
   "outputs": [
    {
     "data": {
      "text/html": [
       "<div>\n",
       "<style scoped>\n",
       "    .dataframe tbody tr th:only-of-type {\n",
       "        vertical-align: middle;\n",
       "    }\n",
       "\n",
       "    .dataframe tbody tr th {\n",
       "        vertical-align: top;\n",
       "    }\n",
       "\n",
       "    .dataframe thead th {\n",
       "        text-align: right;\n",
       "    }\n",
       "</style>\n",
       "<table border=\"1\" class=\"dataframe\">\n",
       "  <thead>\n",
       "    <tr style=\"text-align: right;\">\n",
       "      <th></th>\n",
       "      <th>subreddit</th>\n",
       "      <th>title</th>\n",
       "    </tr>\n",
       "  </thead>\n",
       "  <tbody>\n",
       "  </tbody>\n",
       "</table>\n",
       "</div>"
      ],
      "text/plain": [
       "Empty DataFrame\n",
       "Columns: [subreddit, title]\n",
       "Index: []"
      ]
     },
     "execution_count": 5,
     "metadata": {},
     "output_type": "execute_result"
    }
   ],
   "source": [
    "diets[diets['title'].isnull()]"
   ]
  },
  {
   "cell_type": "markdown",
   "id": "afacb739-30ee-4f93-ae25-85e4eb35e9d5",
   "metadata": {},
   "source": [
    "**All null values are coming from the plant_based DataFrame. Interesting that they didn't appear when I ran the check in the *02_EDA_and_Cleaning* notebook.**"
   ]
  },
  {
   "cell_type": "code",
   "execution_count": 6,
   "id": "9cec2a00-38e3-4e3f-8567-daeea0733d9b",
   "metadata": {},
   "outputs": [
    {
     "data": {
      "text/html": [
       "<div>\n",
       "<style scoped>\n",
       "    .dataframe tbody tr th:only-of-type {\n",
       "        vertical-align: middle;\n",
       "    }\n",
       "\n",
       "    .dataframe tbody tr th {\n",
       "        vertical-align: top;\n",
       "    }\n",
       "\n",
       "    .dataframe thead th {\n",
       "        text-align: right;\n",
       "    }\n",
       "</style>\n",
       "<table border=\"1\" class=\"dataframe\">\n",
       "  <thead>\n",
       "    <tr style=\"text-align: right;\">\n",
       "      <th></th>\n",
       "      <th>subreddit</th>\n",
       "      <th>title</th>\n",
       "    </tr>\n",
       "  </thead>\n",
       "  <tbody>\n",
       "    <tr>\n",
       "      <th>1821</th>\n",
       "      <td>PlantBasedDiet</td>\n",
       "      <td>https://beautifulingredient.com/quinoa-bacon-bits/</td>\n",
       "    </tr>\n",
       "    <tr>\n",
       "      <th>3108</th>\n",
       "      <td>PlantBasedDiet</td>\n",
       "      <td>sucavu.com/?wa=Koken</td>\n",
       "    </tr>\n",
       "    <tr>\n",
       "      <th>4383</th>\n",
       "      <td>PlantBasedDiet</td>\n",
       "      <td>https://filmi-beats.blogspot.com/2021/05/IRON-MAN-ROBERT-DOWNEY-JR.-HD-WALLPAPER.html</td>\n",
       "    </tr>\n",
       "    <tr>\n",
       "      <th>4604</th>\n",
       "      <td>PlantBasedDiet</td>\n",
       "      <td>plantstrong.com/</td>\n",
       "    </tr>\n",
       "  </tbody>\n",
       "</table>\n",
       "</div>"
      ],
      "text/plain": [
       "           subreddit  \\\n",
       "1821  PlantBasedDiet   \n",
       "3108  PlantBasedDiet   \n",
       "4383  PlantBasedDiet   \n",
       "4604  PlantBasedDiet   \n",
       "\n",
       "                                                                                      title  \n",
       "1821                                     https://beautifulingredient.com/quinoa-bacon-bits/  \n",
       "3108                                                                   sucavu.com/?wa=Koken  \n",
       "4383  https://filmi-beats.blogspot.com/2021/05/IRON-MAN-ROBERT-DOWNEY-JR.-HD-WALLPAPER.html  \n",
       "4604                                                                       plantstrong.com/  "
      ]
     },
     "execution_count": 6,
     "metadata": {},
     "output_type": "execute_result"
    }
   ],
   "source": [
    "# Importing the plant_based DataFrame to see what the null values originally were.\n",
    "\n",
    "plant_based = pd.read_csv('../data/plant_based.csv').drop(columns = ['selftext', 'created_utc'])\n",
    "\n",
    "plant_based.iloc[[1821, 3108, 4383, 4604], :]"
   ]
  },
  {
   "cell_type": "markdown",
   "id": "cba36857-4ee0-4c15-8e4d-ebff97301233",
   "metadata": {},
   "source": [
    "**The null values were all originally URLs that were purposely removed in the cleaning process. Since these value only contained URLs and nothing else, they'll need to be dropped.**"
   ]
  },
  {
   "cell_type": "code",
   "execution_count": 7,
   "id": "d5f09bac-3804-47f0-8f46-6ef2ea832a71",
   "metadata": {},
   "outputs": [
    {
     "data": {
      "text/plain": [
       "(9993, 2)"
      ]
     },
     "execution_count": 7,
     "metadata": {},
     "output_type": "execute_result"
    }
   ],
   "source": [
    "diets = diets.dropna()\n",
    "diets.shape"
   ]
  },
  {
   "cell_type": "code",
   "execution_count": 8,
   "id": "763e54fb-6aad-44cc-a07f-8909afeb9778",
   "metadata": {},
   "outputs": [],
   "source": [
    "# Re-saving the diets DataFrame\n",
    "\n",
    "diets.to_csv('../data/diets.csv', index=False)"
   ]
  },
  {
   "cell_type": "markdown",
   "id": "cc67fa22-8cfb-4236-88df-3bd43ccbec76",
   "metadata": {},
   "source": [
    "## Train/Test Split"
   ]
  },
  {
   "cell_type": "code",
   "execution_count": 9,
   "id": "1b97a661-56ec-4167-9dc3-b7849eb557de",
   "metadata": {},
   "outputs": [],
   "source": [
    "X = diets['title']\n",
    "y = diets['subreddit']\n",
    "\n",
    "X_train, X_test, y_train, y_test = train_test_split(X, \n",
    "                                                    y, \n",
    "                                                    test_size=0.2, \n",
    "                                                    random_state=42, \n",
    "                                                    stratify=y)"
   ]
  },
  {
   "cell_type": "markdown",
   "id": "4c84650a-6701-4ed9-aed5-fe86e86f36a4",
   "metadata": {},
   "source": [
    "## Baseline Accuracies"
   ]
  },
  {
   "cell_type": "code",
   "execution_count": 10,
   "id": "40db0352-7853-4f64-bf87-bf9a6557f1f9",
   "metadata": {},
   "outputs": [
    {
     "name": "stdout",
     "output_type": "stream",
     "text": [
      "1    0.50015\n",
      "0    0.49985\n",
      "Name: subreddit, dtype: float64\n",
      "1    0.500125\n",
      "0    0.499875\n",
      "Name: subreddit, dtype: float64\n",
      "1    0.50025\n",
      "0    0.49975\n",
      "Name: subreddit, dtype: float64\n"
     ]
    }
   ],
   "source": [
    "print(y.value_counts(normalize=True))\n",
    "print(y_train.value_counts(normalize=True))\n",
    "print(y_test.value_counts(normalize=True))"
   ]
  },
  {
   "cell_type": "markdown",
   "id": "3874f1e4-6ac8-40db-b5a8-e5762bd3b37f",
   "metadata": {},
   "source": [
    "**The baseline accuracy is 0.50, so we'll need a model that can beat that score, at the very minumum.**"
   ]
  },
  {
   "cell_type": "markdown",
   "id": "d23f5f50-9ad5-40df-908a-88b758d1c044",
   "metadata": {},
   "source": [
    "## Model Exploration"
   ]
  },
  {
   "cell_type": "markdown",
   "id": "d86a8c47-eeb7-4fd9-adf7-7bfb99e93049",
   "metadata": {},
   "source": [
    "### TfidfVectorizer Parameter Set-Up"
   ]
  },
  {
   "cell_type": "code",
   "execution_count": 11,
   "id": "1e98807c-1c16-4cb7-949f-757d181e0a4e",
   "metadata": {},
   "outputs": [],
   "source": [
    "# Creating a Lemmatizer object to include as a tokenizer in the TfidfVectorizer\n",
    "# Help from here: https://stackoverflow.com/questions/47423854/sklearn-adding-lemmatizer-to-countvectorizer\n",
    "\n",
    "class LemmaTokenizer(object):\n",
    "    def __init__(self):\n",
    "        self.wnl = WordNetLemmatizer()\n",
    "    def __call__(self, articles):\n",
    "        return [self.wnl.lemmatize(t) for t in word_tokenize(articles)]"
   ]
  },
  {
   "cell_type": "code",
   "execution_count": 12,
   "id": "afc6fce6-9fd3-4e99-8963-84d8c7d2e0d6",
   "metadata": {},
   "outputs": [],
   "source": [
    "# Modifying the stopwords list per a warning that appeared listing these words\n",
    "\n",
    "stopwords = stopwords.words('english')\n",
    "new_stop_words = ['amp', \"'d\", \"'ll\", \"'re\", \"'s\", \"'ve\", 'could', 'doe', 'ha', 'might', 'must', \"n't\", 'need', 'sha', 'wa', 'wo', 'would']\n",
    "stopwords.extend(new_stop_words)"
   ]
  },
  {
   "cell_type": "code",
   "execution_count": 13,
   "id": "b54c818c-7809-4a77-b353-4243b19f8b3d",
   "metadata": {},
   "outputs": [],
   "source": [
    "# Identifying how many features are produced with the TfidfVectorizer that will be used for all models\n",
    "\n",
    "# tvec = TfidfVectorizer(lowercase=True, \n",
    "#                        preprocessor=None, \n",
    "#                        tokenizer=LemmaTokenizer(), \n",
    "#                        stop_words=stopwords, \n",
    "#                        analyzer='word')\n",
    "\n",
    "# X_train = tvec.fit_transform(X_train)"
   ]
  },
  {
   "cell_type": "code",
   "execution_count": 14,
   "id": "933283ad-12ce-462f-ba00-e8ab61ed85f7",
   "metadata": {},
   "outputs": [],
   "source": [
    "# X_train.todense().shape"
   ]
  },
  {
   "cell_type": "markdown",
   "id": "f1bf0d0e-6d3f-4646-91a2-4dc98e24eace",
   "metadata": {},
   "source": [
    "**The TfidfVectorizer identifies 6,867 distinct words after lemmatizing and removing stopwords.**"
   ]
  },
  {
   "cell_type": "markdown",
   "id": "d7ee557c-861f-4888-af32-634422180333",
   "metadata": {},
   "source": [
    "### RandomForestClassifier"
   ]
  },
  {
   "cell_type": "code",
   "execution_count": 15,
   "id": "12f538e2-796c-45a8-a17c-dd2a69e3f82e",
   "metadata": {},
   "outputs": [],
   "source": [
    "rf_pipe = Pipeline([\n",
    "    ('rf_tvec', TfidfVectorizer(lowercase=True, \n",
    "                             preprocessor=None,\n",
    "                             tokenizer=LemmaTokenizer(),\n",
    "                             stop_words=stopwords,\n",
    "                             analyzer='word')), \n",
    "    ('rf', RandomForestClassifier(random_state=42))\n",
    "])"
   ]
  },
  {
   "cell_type": "code",
   "execution_count": 16,
   "id": "213b5d74-df65-43cf-84ec-2eafd9b9f4b8",
   "metadata": {
    "tags": []
   },
   "outputs": [
    {
     "data": {
      "text/plain": [
       "0.8019767891719111"
      ]
     },
     "execution_count": 16,
     "metadata": {},
     "output_type": "execute_result"
    }
   ],
   "source": [
    "cross_val_score(rf_pipe, X_train, y_train, cv=3).mean()"
   ]
  },
  {
   "cell_type": "markdown",
   "id": "5b69a9c4-73f1-4d7d-a55c-d4518d04dfdc",
   "metadata": {},
   "source": [
    "**The accuracy score we can expect on the test data without any hyper-parameter tuning is 0.8019.**"
   ]
  },
  {
   "cell_type": "code",
   "execution_count": 17,
   "id": "545b4ba1-3b59-4148-a76b-f494f7c3e6e1",
   "metadata": {},
   "outputs": [
    {
     "name": "stdout",
     "output_type": "stream",
     "text": [
      "0.9897423067300475\n",
      "0.8084042021010506\n"
     ]
    }
   ],
   "source": [
    "rf_pipe.fit(X_train, y_train)\n",
    "print(rf_pipe.score(X_train, y_train))\n",
    "print(rf_pipe.score(X_test, y_test))"
   ]
  },
  {
   "cell_type": "markdown",
   "id": "d6b53b01-d9e4-437d-9a5d-b3d732bc8a2d",
   "metadata": {},
   "source": [
    "**Without any hyper-parameter tuning, the Random Forest model achieved a testing accuracy of 0.8084 but is incredibly overfit by 0.1813.**"
   ]
  },
  {
   "cell_type": "code",
   "execution_count": 18,
   "id": "a292aad1-8a55-4667-8f93-af79aeb06169",
   "metadata": {},
   "outputs": [],
   "source": [
    "# Setting hyper-parameters that RandomizedSearchCV will search through\n",
    "\n",
    "rf_pipe_params = {\n",
    "    'rf_tvec__max_features' : [None, 1000, 2000, 4000],\n",
    "    'rf_tvec__min_df' : [1, 2, 3, 5],\n",
    "    'rf_tvec__max_df' : [0.25, 0.75, .90],\n",
    "    'rf_tvec__ngram_range' : [(1,1),(1, 2)],\n",
    "    'rf__n_estimators': [10, 50, 100],\n",
    "    'rf__max_depth': [None, 10, 100]\n",
    "}"
   ]
  },
  {
   "cell_type": "code",
   "execution_count": 19,
   "id": "cf4cc942-f72a-49f1-92c3-076858933b7a",
   "metadata": {},
   "outputs": [],
   "source": [
    "# RandomizedSearchCV will sample 10 parameter settings to reduce runtime\n",
    "\n",
    "rf_rs = RandomizedSearchCV(rf_pipe,\n",
    "                 param_distributions = rf_pipe_params, \n",
    "                 n_iter=10,\n",
    "                 cv = 3,\n",
    "                 random_state=42)"
   ]
  },
  {
   "cell_type": "code",
   "execution_count": 20,
   "id": "e5cf303f-3d7d-4672-a82b-9fca2978ba7c",
   "metadata": {},
   "outputs": [
    {
     "name": "stdout",
     "output_type": "stream",
     "text": [
      "{'rf_tvec__ngram_range': (1, 1), 'rf_tvec__min_df': 1, 'rf_tvec__max_features': 2000, 'rf_tvec__max_df': 0.75, 'rf__n_estimators': 50, 'rf__max_depth': 100}\n",
      "0.7998500376549157\n",
      "0.9019264448336253\n",
      "0.8009004502251126\n"
     ]
    }
   ],
   "source": [
    "rf_rs.fit(X_train, y_train)\n",
    "\n",
    "print(rf_rs.best_params_)\n",
    "print(rf_rs.best_score_)\n",
    "print(rf_rs.score(X_train, y_train))\n",
    "print(rf_rs.score(X_test, y_test))"
   ]
  },
  {
   "cell_type": "markdown",
   "id": "551c0f8e-b302-4fad-91fe-fa89878b9223",
   "metadata": {},
   "source": [
    "**After hyper-parameter tuning, there was no accuracy improvement but the variance was decreased to 0.101.**"
   ]
  },
  {
   "cell_type": "markdown",
   "id": "e55b0e86-b2e4-4fbe-a5bb-20e290e448cf",
   "metadata": {},
   "source": [
    "### LogisticRegression"
   ]
  },
  {
   "cell_type": "code",
   "execution_count": 21,
   "id": "6af85b10-780d-41c7-9a26-adb73116d346",
   "metadata": {},
   "outputs": [],
   "source": [
    "logr_pipe = Pipeline([\n",
    "    ('logr_tvec', TfidfVectorizer(lowercase=True, \n",
    "                             preprocessor=None,\n",
    "                             tokenizer=LemmaTokenizer(),\n",
    "                             stop_words=stopwords,\n",
    "                             analyzer='word')), \n",
    "    ('logr', LogisticRegression())\n",
    "])"
   ]
  },
  {
   "cell_type": "code",
   "execution_count": 22,
   "id": "8106d1b7-56d7-4f09-af3e-f6e23003b267",
   "metadata": {
    "tags": []
   },
   "outputs": [
    {
     "data": {
      "text/plain": [
       "0.8091062450818548"
      ]
     },
     "execution_count": 22,
     "metadata": {},
     "output_type": "execute_result"
    }
   ],
   "source": [
    "cross_val_score(logr_pipe, X_train, y_train, cv=3).mean()"
   ]
  },
  {
   "cell_type": "markdown",
   "id": "47f092cc-15ff-4801-b468-38156667aef1",
   "metadata": {},
   "source": [
    "**The accuracy score we can expect on the test data without any hyper-parameter tuning is 0.8091.**"
   ]
  },
  {
   "cell_type": "code",
   "execution_count": 23,
   "id": "4cf1f8b8-bf39-48b3-a97c-86a5b6ef707e",
   "metadata": {},
   "outputs": [
    {
     "name": "stdout",
     "output_type": "stream",
     "text": [
      "0.9014260695521641\n",
      "0.8204102051025512\n"
     ]
    }
   ],
   "source": [
    "logr_pipe.fit(X_train, y_train)\n",
    "print(logr_pipe.score(X_train, y_train))\n",
    "print(logr_pipe.score(X_test, y_test))"
   ]
  },
  {
   "cell_type": "markdown",
   "id": "86d8303a-ed13-414e-baaf-1f5667ad0451",
   "metadata": {},
   "source": [
    "**Without any hyper-parameter tuning, the Logisitic Regression model achieved a testing accuracy of 0.8204 but is overfit by 0.081.**"
   ]
  },
  {
   "cell_type": "code",
   "execution_count": 24,
   "id": "7aeff1c3-2784-476c-9c18-d45a4dfd27c8",
   "metadata": {},
   "outputs": [],
   "source": [
    "# Setting hyper-parameters that RandomizedSearchCV will search through\n",
    "\n",
    "logr_pipe_params = {\n",
    "    'logr_tvec__max_features' : [None, 1000, 2000, 4000],\n",
    "    'logr_tvec__min_df' : [1, 2, 3, 5],\n",
    "    'logr_tvec__max_df' : [0.25, 0.75, 0.90],\n",
    "    'logr_tvec__ngram_range' : [(1,1),(1, 2)],\n",
    "}"
   ]
  },
  {
   "cell_type": "code",
   "execution_count": 25,
   "id": "4744c2bf-5fad-4240-b6eb-5256366876e2",
   "metadata": {},
   "outputs": [],
   "source": [
    "# RandomizedSearchCV will sample 10 parameter settings to reduce runtime\n",
    "\n",
    "logr_rs = RandomizedSearchCV(logr_pipe,\n",
    "                 param_distributions = logr_pipe_params, \n",
    "                 n_iter=10,\n",
    "                 cv = 3,\n",
    "                 random_state=42)"
   ]
  },
  {
   "cell_type": "code",
   "execution_count": 26,
   "id": "77417e00-8f15-46a3-a618-d138faffc9f9",
   "metadata": {},
   "outputs": [
    {
     "name": "stdout",
     "output_type": "stream",
     "text": [
      "{'logr_tvec__ngram_range': (1, 2), 'logr_tvec__min_df': 1, 'logr_tvec__max_features': None, 'logr_tvec__max_df': 0.75}\n",
      "0.8157370785419565\n",
      "0.9419564673505129\n",
      "0.8219109554777388\n"
     ]
    }
   ],
   "source": [
    "logr_rs.fit(X_train, y_train)\n",
    "\n",
    "print(logr_rs.best_params_)\n",
    "print(logr_rs.best_score_)\n",
    "print(logr_rs.score(X_train, y_train))\n",
    "print(logr_rs.score(X_test, y_test))"
   ]
  },
  {
   "cell_type": "markdown",
   "id": "5cabac09-4373-4c87-a6fb-6958e379a5d2",
   "metadata": {},
   "source": [
    "**After hyper-parameter tuning, there was hardly an improvement in accuracy and the variance increased to 0.12.**"
   ]
  },
  {
   "cell_type": "markdown",
   "id": "484ed5e0-883d-4395-9693-2b3cc1074bbf",
   "metadata": {},
   "source": [
    "### KNeighborsClassifier"
   ]
  },
  {
   "cell_type": "code",
   "execution_count": 27,
   "id": "db1961ff-183e-4e71-8506-3a842c87c0b0",
   "metadata": {},
   "outputs": [],
   "source": [
    "knn_pipe = Pipeline([\n",
    "    ('knn_tvec', TfidfVectorizer(lowercase=True, \n",
    "                             preprocessor=None,\n",
    "                             tokenizer=LemmaTokenizer(),\n",
    "                             stop_words=stopwords,\n",
    "                             analyzer='word')), \n",
    "    ('knn', KNeighborsClassifier())\n",
    "])"
   ]
  },
  {
   "cell_type": "code",
   "execution_count": 28,
   "id": "0ee0a9a8-2628-437f-9d9c-a6e3021b9ba4",
   "metadata": {
    "tags": []
   },
   "outputs": [
    {
     "data": {
      "text/plain": [
       "0.599695380183185"
      ]
     },
     "execution_count": 28,
     "metadata": {},
     "output_type": "execute_result"
    }
   ],
   "source": [
    "cross_val_score(knn_pipe, X_train, y_train, cv=3).mean()"
   ]
  },
  {
   "cell_type": "markdown",
   "id": "b02d90dd-5d3e-479c-9e64-adb20521c9b7",
   "metadata": {},
   "source": [
    "**The accuracy score we can expect on the test data without any hyper-parameter tuning is 0.5996.**"
   ]
  },
  {
   "cell_type": "code",
   "execution_count": 29,
   "id": "8a3822f8-7f38-4559-a4da-14f30c14989b",
   "metadata": {},
   "outputs": [
    {
     "name": "stdout",
     "output_type": "stream",
     "text": [
      "0.648861646234676\n",
      "0.5757878939469735\n"
     ]
    }
   ],
   "source": [
    "knn_pipe.fit(X_train, y_train)\n",
    "print(knn_pipe.score(X_train, y_train))\n",
    "print(knn_pipe.score(X_test, y_test))"
   ]
  },
  {
   "cell_type": "markdown",
   "id": "00862898-09a0-4f4f-bfe3-89a7d7deb45d",
   "metadata": {},
   "source": [
    "**Without any hyper-parameter tuning, the k-Nearest Neighbors model achieved a testing accuracy of 0.5757 and is overfit by 0.0731.**"
   ]
  },
  {
   "cell_type": "code",
   "execution_count": 30,
   "id": "1065f6f8-5b65-4fd7-b318-d93481d86a04",
   "metadata": {},
   "outputs": [],
   "source": [
    "# Setting hyper-parameters that RandomizedSearchCV will search through\n",
    "\n",
    "knn_pipe_params = {\n",
    "    'knn_tvec__max_features' : [None, 1000, 2000, 4000],\n",
    "    'knn_tvec__min_df' : [1, 2, 3, 5],\n",
    "    'knn_tvec__max_df' : [0.25, 0.75, .90],\n",
    "    'knn_tvec__ngram_range' : [(1,1),(1, 2)],\n",
    "    'knn__n_neighbors': [3, 5, 11],\n",
    "    'knn__weights': ['uniform', 'distance']\n",
    "}"
   ]
  },
  {
   "cell_type": "code",
   "execution_count": 31,
   "id": "8f9f9996-493c-4c1c-847a-ae75e6831d66",
   "metadata": {},
   "outputs": [],
   "source": [
    "# RandomizedSearchCV will sample 10 parameter settings to reduce runtime\n",
    "\n",
    "knn_rs = RandomizedSearchCV(knn_pipe,\n",
    "                 param_distributions = knn_pipe_params, \n",
    "                 n_iter=10,\n",
    "                 cv = 3,\n",
    "                 random_state=42)"
   ]
  },
  {
   "cell_type": "code",
   "execution_count": 32,
   "id": "18e59865-37e7-41b0-8e6e-4e665a1c1643",
   "metadata": {},
   "outputs": [
    {
     "name": "stdout",
     "output_type": "stream",
     "text": [
      "{'knn_tvec__ngram_range': (1, 2), 'knn_tvec__min_df': 3, 'knn_tvec__max_features': 4000, 'knn_tvec__max_df': 0.25, 'knn__weights': 'uniform', 'knn__n_neighbors': 3}\n",
      "0.6591204713155933\n",
      "0.8986740055041281\n",
      "0.6983491745872936\n"
     ]
    }
   ],
   "source": [
    "knn_rs.fit(X_train, y_train)\n",
    "\n",
    "print(knn_rs.best_params_)\n",
    "print(knn_rs.best_score_)\n",
    "print(knn_rs.score(X_train, y_train))\n",
    "print(knn_rs.score(X_test, y_test))"
   ]
  },
  {
   "cell_type": "markdown",
   "id": "e5495f49-065a-494e-bfc2-fa9471376ea9",
   "metadata": {},
   "source": [
    "**After hyper-parameter tuning, the testing accuracy did improve by 0.12, but was became incredibly overfit by 0.2003.**"
   ]
  },
  {
   "cell_type": "markdown",
   "id": "9cbc00fb-3b41-43dc-820a-1113141662bc",
   "metadata": {
    "tags": []
   },
   "source": [
    "### AdaBoostClassifier"
   ]
  },
  {
   "cell_type": "code",
   "execution_count": 33,
   "id": "37ed4dda-81b0-41cc-a4b8-b7777db1da29",
   "metadata": {},
   "outputs": [],
   "source": [
    "ada_pipe = Pipeline([\n",
    "    ('ada_tvec', TfidfVectorizer(lowercase=True, \n",
    "                             preprocessor=None,\n",
    "                             tokenizer=LemmaTokenizer(),\n",
    "                             stop_words=stopwords,\n",
    "                             analyzer='word')), \n",
    "    ('ada', AdaBoostClassifier(random_state=42))\n",
    "])"
   ]
  },
  {
   "cell_type": "code",
   "execution_count": 34,
   "id": "fa2cb20a-fa68-4654-b80c-2e500dd3078e",
   "metadata": {
    "tags": []
   },
   "outputs": [
    {
     "data": {
      "text/plain": [
       "0.7855897642483008"
      ]
     },
     "execution_count": 34,
     "metadata": {},
     "output_type": "execute_result"
    }
   ],
   "source": [
    "cross_val_score(ada_pipe, X_train, y_train, cv=3).mean()"
   ]
  },
  {
   "cell_type": "markdown",
   "id": "c0265a77-73c9-4c78-9e99-8cb3a96c90d7",
   "metadata": {},
   "source": [
    "**The accuracy score we can expect on the test data without any hyper-parameter tuning is 0.7855.**"
   ]
  },
  {
   "cell_type": "code",
   "execution_count": 35,
   "id": "e43ec58d-7dc3-4fed-ab93-8c33c3fdbee9",
   "metadata": {},
   "outputs": [
    {
     "name": "stdout",
     "output_type": "stream",
     "text": [
      "0.8038528896672504\n",
      "0.7938969484742371\n"
     ]
    }
   ],
   "source": [
    "ada_pipe.fit(X_train, y_train)\n",
    "print(ada_pipe.score(X_train, y_train))\n",
    "print(ada_pipe.score(X_test, y_test))"
   ]
  },
  {
   "cell_type": "markdown",
   "id": "bd5a9313-8aab-4a15-b331-152c94af9cf4",
   "metadata": {},
   "source": [
    "**Without any hyper-parameter tuning, the AdaBoost model achieved a testing accuracy of 0.7938 and can hardly be considered overfit since the scores only differ by 0.01.**"
   ]
  },
  {
   "cell_type": "code",
   "execution_count": 36,
   "id": "a91d97d3-0f84-472e-9b71-128dc13168dd",
   "metadata": {},
   "outputs": [],
   "source": [
    "# Setting hyper-parameters that RandomizedSearchCV will search through\n",
    "\n",
    "ada_pipe_params = {\n",
    "    'ada_tvec__max_features' : [None, 1000, 2000, 4000],\n",
    "    'ada_tvec__min_df' : [1, 2, 3, 5],\n",
    "    'ada_tvec__max_df' : [0.25, 0.75, .90],\n",
    "    'ada_tvec__ngram_range' : [(1,1),(1, 2)],\n",
    "    'ada__n_estimators': [10, 50, 100],\n",
    "    'ada__learning_rate': [1.0, 2.0, 3.0],\n",
    "}"
   ]
  },
  {
   "cell_type": "code",
   "execution_count": 37,
   "id": "c05d3f9b-dc5e-4482-bcba-2298b790f3d6",
   "metadata": {},
   "outputs": [],
   "source": [
    "# RandomizedSearchCV will sample 10 parameter settings to reduce runtime\n",
    "\n",
    "ada_rs = RandomizedSearchCV(ada_pipe,\n",
    "                 param_distributions = ada_pipe_params, \n",
    "                 n_iter=10,\n",
    "                 cv = 3, \n",
    "                 random_state=42)"
   ]
  },
  {
   "cell_type": "code",
   "execution_count": 38,
   "id": "fd75f517-4d30-497e-9957-20a8d32ae7fc",
   "metadata": {},
   "outputs": [
    {
     "name": "stdout",
     "output_type": "stream",
     "text": [
      "{'ada_tvec__ngram_range': (1, 1), 'ada_tvec__min_df': 5, 'ada_tvec__max_features': None, 'ada_tvec__max_df': 0.25, 'ada__n_estimators': 100, 'ada__learning_rate': 1.0}\n",
      "0.7868408746457526\n",
      "0.8164873655241431\n",
      "0.7953976988494247\n"
     ]
    }
   ],
   "source": [
    "ada_rs.fit(X_train, y_train)\n",
    "\n",
    "print(ada_rs.best_params_)\n",
    "print(ada_rs.best_score_)\n",
    "print(ada_rs.score(X_train, y_train))\n",
    "print(ada_rs.score(X_test, y_test))"
   ]
  },
  {
   "cell_type": "markdown",
   "id": "64b9b0e6-4bb4-4e8d-8e43-8d223dc902a9",
   "metadata": {},
   "source": [
    "**After hyper-parameter tuning, the testing accuracy increased only slighty and the variance was increased to 0.0211. Regardless, this seems to be the best performing model thus far in terms of how well it seems to work on unseen data.**"
   ]
  },
  {
   "cell_type": "markdown",
   "id": "b14c212a-e788-452a-9df5-b43821d341bb",
   "metadata": {},
   "source": [
    "### GradientBoostingClassifier"
   ]
  },
  {
   "cell_type": "code",
   "execution_count": 39,
   "id": "1d7c1a8e-3bb9-4638-ab6b-22299a6f9339",
   "metadata": {},
   "outputs": [],
   "source": [
    "gb_pipe = Pipeline([\n",
    "    ('gb_tvec', TfidfVectorizer(lowercase=True, \n",
    "                             preprocessor=None,\n",
    "                             tokenizer=LemmaTokenizer(),\n",
    "                             stop_words=stopwords,\n",
    "                             analyzer='word')), \n",
    "    ('gb', GradientBoostingClassifier(random_state=42))\n",
    "])"
   ]
  },
  {
   "cell_type": "code",
   "execution_count": 40,
   "id": "54d7bd91-830d-46fe-82a9-4175311d5eb3",
   "metadata": {
    "tags": []
   },
   "outputs": [
    {
     "data": {
      "text/plain": [
       "0.7833384979726442"
      ]
     },
     "execution_count": 40,
     "metadata": {},
     "output_type": "execute_result"
    }
   ],
   "source": [
    "cross_val_score(gb_pipe, X_train, y_train, cv=3).mean()"
   ]
  },
  {
   "cell_type": "markdown",
   "id": "1adf7917-4483-4f94-a62c-1cd97e029d3a",
   "metadata": {},
   "source": [
    "**The accuracy score we can expect on the test data without any hyper-parameter tuning is 0.7833.**"
   ]
  },
  {
   "cell_type": "code",
   "execution_count": 41,
   "id": "3318ba70-afc5-42d1-ab43-c1485bbafa90",
   "metadata": {},
   "outputs": [
    {
     "name": "stdout",
     "output_type": "stream",
     "text": [
      "0.8028521391043283\n",
      "0.7873936968484242\n"
     ]
    }
   ],
   "source": [
    "gb_pipe.fit(X_train, y_train)\n",
    "print(gb_pipe.score(X_train, y_train))\n",
    "print(gb_pipe.score(X_test, y_test))"
   ]
  },
  {
   "cell_type": "markdown",
   "id": "94342c5d-3918-4ce5-a5ea-0258a9edcb5a",
   "metadata": {},
   "source": [
    "**Without any hyper-parameter tuning, the Gradient Boosting model achieved a testing accuracy of 0.7873 and can hardly be considered overfit since the scores only differ by 0.0155.**"
   ]
  },
  {
   "cell_type": "code",
   "execution_count": 42,
   "id": "aef5d7d5-57fd-4845-ab46-e9edca04ff97",
   "metadata": {},
   "outputs": [],
   "source": [
    "# Setting hyper-parameters that RandomizedSearchCV will search through\n",
    "\n",
    "gb_pipe_params = {\n",
    "    'gb_tvec__max_features' : [None, 1000, 2000, 4000],\n",
    "    'gb_tvec__min_df' : [1, 2, 3, 5],\n",
    "    'gb_tvec__max_df' : [0.25, 0.75, .90],\n",
    "    'gb_tvec__ngram_range' : [(1,1),(1, 2)],\n",
    "    'gb__learning_rate': [1.0, 2.0, 3.0],\n",
    "    'gb__n_estimators': [10, 50, 100]\n",
    "}"
   ]
  },
  {
   "cell_type": "code",
   "execution_count": 43,
   "id": "cda48039-a1b8-4467-96a8-d00e80b1ae08",
   "metadata": {},
   "outputs": [],
   "source": [
    "# RandomizedSearchCV will sample 10 parameter settings to reduce runtime\n",
    "\n",
    "gb_rs = RandomizedSearchCV(gb_pipe,\n",
    "                 param_distributions = gb_pipe_params, \n",
    "                 n_iter=10,\n",
    "                 cv = 3,\n",
    "                 random_state=42)"
   ]
  },
  {
   "cell_type": "code",
   "execution_count": 44,
   "id": "01fcf3cc-aee9-4871-8ca0-cacc342d944f",
   "metadata": {},
   "outputs": [
    {
     "name": "stdout",
     "output_type": "stream",
     "text": [
      "{'gb_tvec__ngram_range': (1, 1), 'gb_tvec__min_df': 5, 'gb_tvec__max_features': None, 'gb_tvec__max_df': 0.25, 'gb__n_estimators': 100, 'gb__learning_rate': 1.0}\n",
      "0.7760822736432492\n",
      "0.8925444083062297\n",
      "0.8024012006003002\n"
     ]
    }
   ],
   "source": [
    "gb_rs.fit(X_train, y_train)\n",
    "\n",
    "print(gb_rs.best_params_)\n",
    "print(gb_rs.best_score_)\n",
    "print(gb_rs.score(X_train, y_train))\n",
    "print(gb_rs.score(X_test, y_test))"
   ]
  },
  {
   "cell_type": "markdown",
   "id": "cf96f4b4-ceae-4ab9-810d-fa5f96b4ca33",
   "metadata": {},
   "source": [
    "**After hyper-parameter tuning, the testing accuracy increased slightly, but at the expense of becoming pretty overfit by 0.0901.**"
   ]
  },
  {
   "cell_type": "markdown",
   "id": "909a8ab4-28dd-4fc4-bab1-73c8c51f3477",
   "metadata": {},
   "source": [
    "### XGBClassifier"
   ]
  },
  {
   "cell_type": "code",
   "execution_count": 45,
   "id": "ff0edb2a-1494-4b94-8bfc-c46ac3941634",
   "metadata": {},
   "outputs": [],
   "source": [
    "xgb_pipe = Pipeline([\n",
    "    ('xgb_tvec', TfidfVectorizer(lowercase=True, \n",
    "                             preprocessor=None,\n",
    "                             tokenizer=LemmaTokenizer(),\n",
    "                             stop_words=stopwords,\n",
    "                             analyzer='word')), \n",
    "    ('xgb', XGBClassifier(random_state=42))\n",
    "])"
   ]
  },
  {
   "cell_type": "code",
   "execution_count": 46,
   "id": "65c16d00-d6ac-4fce-b097-daf1e275e1bf",
   "metadata": {
    "tags": []
   },
   "outputs": [
    {
     "data": {
      "text/plain": [
       "0.7935958472543838"
      ]
     },
     "execution_count": 46,
     "metadata": {},
     "output_type": "execute_result"
    }
   ],
   "source": [
    "cross_val_score(xgb_pipe, X_train, y_train, cv=3).mean()"
   ]
  },
  {
   "cell_type": "markdown",
   "id": "321821b1-f10a-4042-9be6-e10c8385f8cc",
   "metadata": {},
   "source": [
    "**The accuracy score we can expect on the test data without any hyper-parameter tuning is 0.7935.**"
   ]
  },
  {
   "cell_type": "code",
   "execution_count": 47,
   "id": "1ba103f3-1378-4a03-bd87-d820cb4bef6c",
   "metadata": {},
   "outputs": [
    {
     "name": "stdout",
     "output_type": "stream",
     "text": [
      "0.8551413560170128\n",
      "0.807903951975988\n"
     ]
    }
   ],
   "source": [
    "xgb_pipe.fit(X_train, y_train)\n",
    "print(xgb_pipe.score(X_train, y_train))\n",
    "print(xgb_pipe.score(X_test, y_test))"
   ]
  },
  {
   "cell_type": "markdown",
   "id": "eb3b50bb-6add-4591-a1fd-1263f04665bd",
   "metadata": {},
   "source": [
    "**Without any hyper-parameter tuning, the Gradient Boosting model achieved a testing accuracy of 0.8079 and is a little overfit by 0.0472.**"
   ]
  },
  {
   "cell_type": "code",
   "execution_count": 48,
   "id": "50000e47-a6b6-4807-a785-bbf8a441e20c",
   "metadata": {},
   "outputs": [],
   "source": [
    "# Setting hyper-parameters that RandomizedSearchCV will search through\n",
    "\n",
    "xgb_pipe_params = {\n",
    "    'xgb_tvec__max_features' : [None, 1000, 2000, 4000],\n",
    "    'xgb_tvec__min_df' : [1, 2, 3, 5],\n",
    "    'xgb_tvec__max_df' : [0.25, 0.75, .90],\n",
    "    'xgb_tvec__ngram_range' : [(1,1),(1, 2)],\n",
    "    'xgb__learning_rate': [1.0, 2.0, 3.0],\n",
    "    'xgb__n_estimators': [10, 50, 100]\n",
    "}"
   ]
  },
  {
   "cell_type": "code",
   "execution_count": 49,
   "id": "0e98edbc-18c7-4c08-b258-ee5f82372419",
   "metadata": {},
   "outputs": [],
   "source": [
    "# RandomizedSearchCV will sample 10 parameter settings to reduce runtime\n",
    "\n",
    "xgb_rs = RandomizedSearchCV(xgb_pipe,\n",
    "                 param_distributions = xgb_pipe_params, \n",
    "                 n_iter=10,\n",
    "                 cv = 3,\n",
    "                 random_state=42)"
   ]
  },
  {
   "cell_type": "code",
   "execution_count": 50,
   "id": "8caf362d-8216-4f8c-8df7-fc5a22367d49",
   "metadata": {},
   "outputs": [
    {
     "name": "stdout",
     "output_type": "stream",
     "text": [
      "{'xgb_tvec__ngram_range': (1, 2), 'xgb_tvec__min_df': 5, 'xgb_tvec__max_features': 2000, 'xgb_tvec__max_df': 0.25, 'xgb__n_estimators': 10, 'xgb__learning_rate': 1.0}\n",
      "0.7824624342917025\n",
      "0.8124843632724543\n",
      "0.7968984492246123\n"
     ]
    }
   ],
   "source": [
    "xgb_rs.fit(X_train, y_train)\n",
    "\n",
    "print(xgb_rs.best_params_)\n",
    "print(xgb_rs.best_score_)\n",
    "print(xgb_rs.score(X_train, y_train))\n",
    "print(xgb_rs.score(X_test, y_test))"
   ]
  },
  {
   "cell_type": "markdown",
   "id": "38e3f890-5777-495c-88e4-fb6f60a0904b",
   "metadata": {},
   "source": [
    "**After hyper-parameter tuning, the testing accuracy decreased a tad, and the variance decreased to a 0.0156 difference. This makes this model a strong contender for best-performing alongside the AdaBoost model.**"
   ]
  },
  {
   "cell_type": "markdown",
   "id": "7a2d455e-92cd-4eab-82cd-76b86b927b48",
   "metadata": {},
   "source": [
    "### SVC"
   ]
  },
  {
   "cell_type": "code",
   "execution_count": 51,
   "id": "fbf86bd8-a2db-4eaa-8fd1-ef4ee12a2a85",
   "metadata": {},
   "outputs": [],
   "source": [
    "svc_pipe = Pipeline([\n",
    "    ('svc_tvec', TfidfVectorizer(lowercase=True, \n",
    "                             preprocessor=None,\n",
    "                             tokenizer=LemmaTokenizer(),\n",
    "                             stop_words=stopwords,\n",
    "                             analyzer='word')), \n",
    "    ('svc', SVC(random_state=42))\n",
    "])"
   ]
  },
  {
   "cell_type": "code",
   "execution_count": 52,
   "id": "3d6b3155-5172-46a2-bffe-068537285c1b",
   "metadata": {
    "tags": []
   },
   "outputs": [
    {
     "data": {
      "text/plain": [
       "0.8138603894701455"
      ]
     },
     "execution_count": 52,
     "metadata": {},
     "output_type": "execute_result"
    }
   ],
   "source": [
    "cross_val_score(svc_pipe, X_train, y_train, cv=3).mean()"
   ]
  },
  {
   "cell_type": "markdown",
   "id": "be4cb837-4430-4dfd-bf05-0f7c5b521a88",
   "metadata": {},
   "source": [
    "**The accuracy score we can expect on the test data without any hyper-parameter tuning is 0.8138.**"
   ]
  },
  {
   "cell_type": "code",
   "execution_count": 53,
   "id": "699a3ae5-18a2-4a66-8fc2-651cbef6ed63",
   "metadata": {},
   "outputs": [
    {
     "name": "stdout",
     "output_type": "stream",
     "text": [
      "0.9691018263697774\n",
      "0.8244122061030515\n"
     ]
    }
   ],
   "source": [
    "svc_pipe.fit(X_train, y_train)\n",
    "print(svc_pipe.score(X_train, y_train))\n",
    "print(svc_pipe.score(X_test, y_test))"
   ]
  },
  {
   "cell_type": "markdown",
   "id": "7d78c16f-3bfe-4ea6-8fc3-5d15de981a8a",
   "metadata": {},
   "source": [
    "**Without any hyper-parameter tuning, the Support Vector Classifier model achieved a testing accuracy of 0.8244 and is overfit by 0.1447.**"
   ]
  },
  {
   "cell_type": "code",
   "execution_count": 54,
   "id": "857bb107-84b9-4778-80fe-1751ce0e8c14",
   "metadata": {},
   "outputs": [],
   "source": [
    "# Setting hyper-parameters that RandomizedSearchCV will search through\n",
    "\n",
    "svc_pipe_params = {\n",
    "    'svc_tvec__max_features' : [None, 1000, 2000, 4000],\n",
    "    'svc_tvec__min_df' : [1, 2, 3, 5],\n",
    "    'svc_tvec__max_df' : [0.25, 0.75, 0.9],\n",
    "    'svc_tvec__ngram_range' : [(1,1),(1, 2)],\n",
    "    'svc__C' : [1.0, 2.0, 3.0],\n",
    "    'svc__kernel' : ['linear','rbf','poly'],\n",
    "    'svc__degree' : [2, 3],\n",
    "    'svc__class_weight' : [None, 'balanced']\n",
    "}"
   ]
  },
  {
   "cell_type": "code",
   "execution_count": 55,
   "id": "aa21c50f-57c2-4ca6-85a3-9fce806b99a0",
   "metadata": {},
   "outputs": [],
   "source": [
    "# RandomizedSearchCV will sample 10 parameter settings to reduce runtime\n",
    "\n",
    "svc_rs = RandomizedSearchCV(svc_pipe,\n",
    "                 param_distributions = svc_pipe_params, \n",
    "                 n_iter=10,\n",
    "                 cv = 3,\n",
    "                 random_state=42)"
   ]
  },
  {
   "cell_type": "code",
   "execution_count": 56,
   "id": "254bc268-9075-4fe2-bf40-68c9b7729bd2",
   "metadata": {},
   "outputs": [
    {
     "name": "stdout",
     "output_type": "stream",
     "text": [
      "{'svc_tvec__ngram_range': (1, 1), 'svc_tvec__min_df': 2, 'svc_tvec__max_features': 2000, 'svc_tvec__max_df': 0.9, 'svc__kernel': 'rbf', 'svc__degree': 3, 'svc__class_weight': None, 'svc__C': 1.0}\n",
      "0.8083566681127657\n",
      "0.9490868151113335\n",
      "0.8189094547273637\n"
     ]
    }
   ],
   "source": [
    "svc_rs.fit(X_train, y_train)\n",
    "\n",
    "print(svc_rs.best_params_)\n",
    "print(svc_rs.best_score_)\n",
    "print(svc_rs.score(X_train, y_train))\n",
    "print(svc_rs.score(X_test, y_test))"
   ]
  },
  {
   "cell_type": "markdown",
   "id": "b7bb8a69-43f0-4059-807a-144c96810c7c",
   "metadata": {},
   "source": [
    "**After hyper-parameter tuning, the accuracy score decreased and variance was reduced very minimally.**"
   ]
  },
  {
   "cell_type": "markdown",
   "id": "58422cd0-b9d0-4cff-9223-7fa1af61f73a",
   "metadata": {},
   "source": [
    "### BernoulliNB"
   ]
  },
  {
   "cell_type": "code",
   "execution_count": 57,
   "id": "58255877-2302-43cb-8618-dc02b1162890",
   "metadata": {},
   "outputs": [],
   "source": [
    "bnb_pipe = Pipeline([\n",
    "    ('bnb_tvec', TfidfVectorizer(lowercase=True, \n",
    "                             preprocessor=None,\n",
    "                             tokenizer=LemmaTokenizer(),\n",
    "                             stop_words=stopwords,\n",
    "                             analyzer='word')), \n",
    "    ('bnb', BernoulliNB())\n",
    "])"
   ]
  },
  {
   "cell_type": "code",
   "execution_count": 58,
   "id": "08dfb72c-bbad-497b-a84c-4ea661c62b7f",
   "metadata": {
    "tags": []
   },
   "outputs": [
    {
     "data": {
      "text/plain": [
       "0.8063539618417668"
      ]
     },
     "execution_count": 58,
     "metadata": {},
     "output_type": "execute_result"
    }
   ],
   "source": [
    "cross_val_score(bnb_pipe, X_train, y_train, cv=3).mean()"
   ]
  },
  {
   "cell_type": "markdown",
   "id": "2a5b0448-8bfa-46bf-ab20-fc12073e40ca",
   "metadata": {},
   "source": [
    "**The accuracy score we can expect on the test data without any hyper-parameter tuning is 0.8063.**"
   ]
  },
  {
   "cell_type": "code",
   "execution_count": 59,
   "id": "02cf7338-7b33-4ffe-9696-0943e8ff5bc7",
   "metadata": {},
   "outputs": [
    {
     "name": "stdout",
     "output_type": "stream",
     "text": [
      "0.9016762571928947\n",
      "0.8119059529764883\n"
     ]
    }
   ],
   "source": [
    "bnb_pipe.fit(X_train, y_train)\n",
    "print(bnb_pipe.score(X_train, y_train))\n",
    "print(bnb_pipe.score(X_test, y_test))"
   ]
  },
  {
   "cell_type": "markdown",
   "id": "06e7f555-f306-43f9-bdc6-52f847a85aff",
   "metadata": {},
   "source": [
    "**Without any hyper-parameter tuning, the Binomial Naive Bayes model achieved a testing accuracy of 0.8119 and is overfit by 0.0897.**"
   ]
  },
  {
   "cell_type": "code",
   "execution_count": 60,
   "id": "51a8d2ef-215a-459b-bfd1-0cf73efd1d0c",
   "metadata": {},
   "outputs": [],
   "source": [
    "# Setting hyper-parameters that RandomizedSearchCV will search through\n",
    "\n",
    "bnb_pipe_params = {\n",
    "    'bnb_tvec__max_features' : [None, 1000, 2000, 4000],\n",
    "    'bnb_tvec__min_df' : [1, 2, 3, 5],\n",
    "    'bnb_tvec__max_df' : [0.25, 0.75, .90],\n",
    "    'bnb_tvec__ngram_range' : [(1,1),(1, 2)],\n",
    "}"
   ]
  },
  {
   "cell_type": "code",
   "execution_count": 61,
   "id": "f3f9aa23-63c2-44c6-afba-5dad8be7d47d",
   "metadata": {},
   "outputs": [],
   "source": [
    "# RandomizedSearchCV will sample 10 parameter settings to reduce runtime\n",
    "\n",
    "bnb_rs = RandomizedSearchCV(bnb_pipe,\n",
    "                 param_distributions = bnb_pipe_params, \n",
    "                 n_iter=10,\n",
    "                 cv = 3,\n",
    "                 random_state=42)"
   ]
  },
  {
   "cell_type": "code",
   "execution_count": 62,
   "id": "8651413f-6b95-482d-946f-9f84c44ca72c",
   "metadata": {},
   "outputs": [
    {
     "name": "stdout",
     "output_type": "stream",
     "text": [
      "{'bnb_tvec__ngram_range': (1, 2), 'bnb_tvec__min_df': 1, 'bnb_tvec__max_features': None, 'bnb_tvec__max_df': 0.75}\n",
      "0.8106065258504281\n",
      "0.9578433825369027\n",
      "0.8254127063531765\n"
     ]
    }
   ],
   "source": [
    "bnb_rs.fit(X_train, y_train)\n",
    "\n",
    "print(bnb_rs.best_params_)\n",
    "print(bnb_rs.best_score_)\n",
    "print(bnb_rs.score(X_train, y_train))\n",
    "print(bnb_rs.score(X_test, y_test))"
   ]
  },
  {
   "cell_type": "markdown",
   "id": "536ff126-8966-48ed-a23b-aef937dfe61d",
   "metadata": {},
   "source": [
    "**After hyper-parameter tuning, there was hardly an improvement in testing accuracy, and the variance increased to a difference of 0.1324**"
   ]
  },
  {
   "cell_type": "markdown",
   "id": "447b1f86-bf96-4cee-83c9-db4ddb9f3163",
   "metadata": {},
   "source": [
    "### MultinomialNB"
   ]
  },
  {
   "cell_type": "code",
   "execution_count": 63,
   "id": "f6d1e0a2-40c4-4bc2-94ca-8eeceefcddce",
   "metadata": {},
   "outputs": [],
   "source": [
    "mnb_pipe = Pipeline([\n",
    "    ('mnb_tvec', TfidfVectorizer(lowercase=True, \n",
    "                             preprocessor=None,\n",
    "                             tokenizer=LemmaTokenizer(),\n",
    "                             stop_words=stopwords,\n",
    "                             analyzer='word')), \n",
    "    ('mnb', MultinomialNB())\n",
    "])"
   ]
  },
  {
   "cell_type": "code",
   "execution_count": 64,
   "id": "1952600e-9cc7-4548-9143-bdb1e44a9878",
   "metadata": {
    "tags": []
   },
   "outputs": [
    {
     "data": {
      "text/plain": [
       "0.7950967383894213"
      ]
     },
     "execution_count": 64,
     "metadata": {},
     "output_type": "execute_result"
    }
   ],
   "source": [
    "cross_val_score(mnb_pipe, X_train, y_train, cv=3).mean()"
   ]
  },
  {
   "cell_type": "markdown",
   "id": "c1461c93-282c-4d24-9b23-df82d728980a",
   "metadata": {},
   "source": [
    "**The accuracy score we can expect on the test data without any hyper-parameter tuning is 0.7950.**"
   ]
  },
  {
   "cell_type": "code",
   "execution_count": 65,
   "id": "ce39686e-5488-4bc2-846c-d3ca7ea9526f",
   "metadata": {},
   "outputs": [
    {
     "name": "stdout",
     "output_type": "stream",
     "text": [
      "0.9076807605704278\n",
      "0.7963981990995498\n"
     ]
    }
   ],
   "source": [
    "mnb_pipe.fit(X_train, y_train)\n",
    "print(mnb_pipe.score(X_train, y_train))\n",
    "print(mnb_pipe.score(X_test, y_test))"
   ]
  },
  {
   "cell_type": "markdown",
   "id": "efc00961-38f2-4fff-ba69-32574dab719c",
   "metadata": {},
   "source": [
    "**Without any hyper-parameter tuning, the Multinomial Naive Bayes model achieved a testing accuracy of 0.7963 and is overfit by 0.1113.**"
   ]
  },
  {
   "cell_type": "code",
   "execution_count": 66,
   "id": "62465cdf-52f8-4d4e-9341-7db0b52f7c31",
   "metadata": {},
   "outputs": [],
   "source": [
    "# Setting hyper-parameters that RandomizedSearchCV will search through\n",
    "\n",
    "mnb_pipe_params = {\n",
    "    'mnb_tvec__max_features' : [None, 1000, 2000, 4000],\n",
    "    'mnb_tvec__min_df' : [1, 2, 3, 5],\n",
    "    'mnb_tvec__max_df' : [0.25, 0.75, .90],\n",
    "    'mnb_tvec__ngram_range' : [(1,1),(1, 2)],\n",
    "}"
   ]
  },
  {
   "cell_type": "code",
   "execution_count": 67,
   "id": "73a7e667-a9c9-4f59-a69b-d1ee24993e4c",
   "metadata": {},
   "outputs": [],
   "source": [
    "# RandomizedSearchCV will sample 10 parameter settings to reduce runtime\n",
    "\n",
    "mnb_rs = RandomizedSearchCV(mnb_pipe,\n",
    "                 param_distributions = mnb_pipe_params, \n",
    "                 n_iter=10,\n",
    "                 cv = 3,\n",
    "                 random_state=42)"
   ]
  },
  {
   "cell_type": "code",
   "execution_count": 68,
   "id": "7c1a30cb-9b16-469d-af5c-8e91ce4f284c",
   "metadata": {},
   "outputs": [
    {
     "name": "stdout",
     "output_type": "stream",
     "text": [
      "{'mnb_tvec__ngram_range': (1, 2), 'mnb_tvec__min_df': 1, 'mnb_tvec__max_features': None, 'mnb_tvec__max_df': 0.75}\n",
      "0.8016015546503352\n",
      "0.9667250437828371\n",
      "0.8124062031015508\n"
     ]
    }
   ],
   "source": [
    "mnb_rs.fit(X_train, y_train)\n",
    "\n",
    "print(mnb_rs.best_params_)\n",
    "print(mnb_rs.best_score_)\n",
    "print(mnb_rs.score(X_train, y_train))\n",
    "print(mnb_rs.score(X_test, y_test))"
   ]
  },
  {
   "cell_type": "markdown",
   "id": "53e5e95c-6d99-4576-947f-20b1e4dd9b69",
   "metadata": {},
   "source": [
    "**After hyper-parameter tuning, the testing accuracy increased slightly, but the variance remained increased to a difference of 0.1543.**"
   ]
  },
  {
   "cell_type": "markdown",
   "id": "350f5ebe-84fa-4802-9e57-818597a42e9b",
   "metadata": {},
   "source": [
    "## Model Exploration Insights"
   ]
  },
  {
   "cell_type": "markdown",
   "id": "fd18508c-a769-4641-8872-6691a4ac4f7d",
   "metadata": {},
   "source": [
    "Each pipeline was fitted without any hyperparameters as a first pass. The testing scores of all the models, with the exception of k-Nearest Neighbors were between 78-82%, so what it really came down to was the amount of variance. As a result, AdaBoost, Gradient Boosting and XGBoost models emerged as the strongest contenders for best-performing based on their competitive testing accuracy scores and low-variance. \n",
    "\n",
    "Of the three strongest contenders, XGBoost achieved the highest testing accuracy score of 0.8079, but was the most overfit by 0.0472. AdaBoost achieved the second highest testing score of 0.7938, but achieved the lowest variance of 0.01. Gradient Boosting had the lowest testing score of 0.7873, but achieved the second lowest variance of 0.0155.\n",
    "\n",
    "During the subsequent passes with a Randomized Search of hyper-parameters, XGBoost emerged as the best-performer with a testing accuracy score of 0.7968 and the lowest variance of 0.0156. This makes it the model that will perform best on unseen data."
   ]
  }
 ],
 "metadata": {
  "kernelspec": {
   "display_name": "Python 3 (ipykernel)",
   "language": "python",
   "name": "python3"
  },
  "language_info": {
   "codemirror_mode": {
    "name": "ipython",
    "version": 3
   },
   "file_extension": ".py",
   "mimetype": "text/x-python",
   "name": "python",
   "nbconvert_exporter": "python",
   "pygments_lexer": "ipython3",
   "version": "3.9.7"
  }
 },
 "nbformat": 4,
 "nbformat_minor": 5
}
