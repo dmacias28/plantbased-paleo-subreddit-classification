{
 "cells": [
  {
   "cell_type": "markdown",
   "id": "714c3985-3149-4e1f-95df-951cb7527a99",
   "metadata": {
    "tags": []
   },
   "source": [
    "# 02: Cleaning & Exploratory Data Analysis\n",
    "---"
   ]
  },
  {
   "cell_type": "markdown",
   "id": "59ecbb07-1d1a-4f7d-a8c8-95a93b3b3d6c",
   "metadata": {},
   "source": [
    "## 1. Imports"
   ]
  },
  {
   "cell_type": "code",
   "execution_count": 1,
   "id": "884826ee-6064-4c06-a60a-f0cde4a3efc0",
   "metadata": {},
   "outputs": [],
   "source": [
    "import pandas as pd\n",
    "import matplotlib.pyplot as plt\n",
    "import re\n",
    "from nltk.corpus import stopwords\n",
    "from sklearn.feature_extraction.text import CountVectorizer\n",
    "\n",
    "pd.options.display.max_colwidth = 400\n",
    "\n",
    "import warnings\n",
    "warnings.simplefilter(action='ignore', category=FutureWarning)"
   ]
  },
  {
   "cell_type": "markdown",
   "id": "df6a01df-4e89-40cd-b03a-981bdb06cf3c",
   "metadata": {},
   "source": [
    "---\n",
    "## 2. Data"
   ]
  },
  {
   "cell_type": "code",
   "execution_count": 2,
   "id": "9c231429-d500-46f1-9ec0-ff85432b10cd",
   "metadata": {},
   "outputs": [],
   "source": [
    "plant_based = pd.read_csv('../data/plant_based.csv')\n",
    "paleo = pd.read_csv('../data/paleo.csv')"
   ]
  },
  {
   "cell_type": "code",
   "execution_count": 3,
   "id": "651e035e-7ae4-4901-8fc7-8e929faf8dd2",
   "metadata": {
    "tags": []
   },
   "outputs": [
    {
     "data": {
      "text/html": [
       "<div>\n",
       "<style scoped>\n",
       "    .dataframe tbody tr th:only-of-type {\n",
       "        vertical-align: middle;\n",
       "    }\n",
       "\n",
       "    .dataframe tbody tr th {\n",
       "        vertical-align: top;\n",
       "    }\n",
       "\n",
       "    .dataframe thead th {\n",
       "        text-align: right;\n",
       "    }\n",
       "</style>\n",
       "<table border=\"1\" class=\"dataframe\">\n",
       "  <thead>\n",
       "    <tr style=\"text-align: right;\">\n",
       "      <th></th>\n",
       "      <th>subreddit</th>\n",
       "      <th>title</th>\n",
       "      <th>selftext</th>\n",
       "      <th>created_utc</th>\n",
       "    </tr>\n",
       "  </thead>\n",
       "  <tbody>\n",
       "    <tr>\n",
       "      <th>0</th>\n",
       "      <td>PlantBasedDiet</td>\n",
       "      <td>I'm having so many health problems from this diet</td>\n",
       "      <td>**Warning, long post ahead** Okay so I had a heart attack in 2020. I have constant angina every day. I'm desperate to find a diet to alleviate my pain if its possible, especially since I'm looking at open heart surgery. I decided to give this plant based lifestyle a chance 6 months ago of eating nothing but whole plant foods and cutting out all the junk even though I was already vegan for a y...</td>\n",
       "      <td>1652222200</td>\n",
       "    </tr>\n",
       "    <tr>\n",
       "      <th>1</th>\n",
       "      <td>PlantBasedDiet</td>\n",
       "      <td>Mercy For Animals encourages White House support of plant-based diet</td>\n",
       "      <td>NaN</td>\n",
       "      <td>1652215236</td>\n",
       "    </tr>\n",
       "    <tr>\n",
       "      <th>2</th>\n",
       "      <td>PlantBasedDiet</td>\n",
       "      <td>Struggling with social &amp;amp; familial stigma/backlash/contempt</td>\n",
       "      <td>[removed]</td>\n",
       "      <td>1652215221</td>\n",
       "    </tr>\n",
       "    <tr>\n",
       "      <th>3</th>\n",
       "      <td>PlantBasedDiet</td>\n",
       "      <td>Ideas for lunch to take to uni</td>\n",
       "      <td>[removed]</td>\n",
       "      <td>1652213780</td>\n",
       "    </tr>\n",
       "    <tr>\n",
       "      <th>4</th>\n",
       "      <td>PlantBasedDiet</td>\n",
       "      <td>$10-25k grants to promote climate-friendly plant-based diet from Eat the Change</td>\n",
       "      <td>Not sure if this is the best sub but I saw that this looks like a cool opportunity for those interested in promoting plant-based eating: [https://eatthechange.org/](https://eatthechange.org/)</td>\n",
       "      <td>1652210182</td>\n",
       "    </tr>\n",
       "  </tbody>\n",
       "</table>\n",
       "</div>"
      ],
      "text/plain": [
       "        subreddit  \\\n",
       "0  PlantBasedDiet   \n",
       "1  PlantBasedDiet   \n",
       "2  PlantBasedDiet   \n",
       "3  PlantBasedDiet   \n",
       "4  PlantBasedDiet   \n",
       "\n",
       "                                                                             title  \\\n",
       "0                                I'm having so many health problems from this diet   \n",
       "1             Mercy For Animals encourages White House support of plant-based diet   \n",
       "2                   Struggling with social &amp; familial stigma/backlash/contempt   \n",
       "3                                                   Ideas for lunch to take to uni   \n",
       "4  $10-25k grants to promote climate-friendly plant-based diet from Eat the Change   \n",
       "\n",
       "                                                                                                                                                                                                                                                                                                                                                                                                          selftext  \\\n",
       "0   **Warning, long post ahead** Okay so I had a heart attack in 2020. I have constant angina every day. I'm desperate to find a diet to alleviate my pain if its possible, especially since I'm looking at open heart surgery. I decided to give this plant based lifestyle a chance 6 months ago of eating nothing but whole plant foods and cutting out all the junk even though I was already vegan for a y...   \n",
       "1                                                                                                                                                                                                                                                                                                                                                                                                              NaN   \n",
       "2                                                                                                                                                                                                                                                                                                                                                                                                        [removed]   \n",
       "3                                                                                                                                                                                                                                                                                                                                                                                                        [removed]   \n",
       "4                                                                                                                                                                                                                  Not sure if this is the best sub but I saw that this looks like a cool opportunity for those interested in promoting plant-based eating: [https://eatthechange.org/](https://eatthechange.org/)   \n",
       "\n",
       "   created_utc  \n",
       "0   1652222200  \n",
       "1   1652215236  \n",
       "2   1652215221  \n",
       "3   1652213780  \n",
       "4   1652210182  "
      ]
     },
     "execution_count": 3,
     "metadata": {},
     "output_type": "execute_result"
    }
   ],
   "source": [
    "plant_based.head()"
   ]
  },
  {
   "cell_type": "code",
   "execution_count": 4,
   "id": "91208fd2-0cb0-4ef8-a3b0-b6d140eae047",
   "metadata": {
    "tags": []
   },
   "outputs": [
    {
     "data": {
      "text/html": [
       "<div>\n",
       "<style scoped>\n",
       "    .dataframe tbody tr th:only-of-type {\n",
       "        vertical-align: middle;\n",
       "    }\n",
       "\n",
       "    .dataframe tbody tr th {\n",
       "        vertical-align: top;\n",
       "    }\n",
       "\n",
       "    .dataframe thead th {\n",
       "        text-align: right;\n",
       "    }\n",
       "</style>\n",
       "<table border=\"1\" class=\"dataframe\">\n",
       "  <thead>\n",
       "    <tr style=\"text-align: right;\">\n",
       "      <th></th>\n",
       "      <th>subreddit</th>\n",
       "      <th>title</th>\n",
       "      <th>selftext</th>\n",
       "      <th>created_utc</th>\n",
       "    </tr>\n",
       "  </thead>\n",
       "  <tbody>\n",
       "    <tr>\n",
       "      <th>0</th>\n",
       "      <td>Paleo</td>\n",
       "      <td>This is my meal for the day. Let me hope that I don't get charged with \"bird genocide\".</td>\n",
       "      <td>NaN</td>\n",
       "      <td>1652208666</td>\n",
       "    </tr>\n",
       "    <tr>\n",
       "      <th>1</th>\n",
       "      <td>Paleo</td>\n",
       "      <td>Coconut/Cassava/Arrowroot flours in Shakes for more carbs? Which one?</td>\n",
       "      <td>I am working out like crazy and need to up my carbs to stay afloat. I am on low-lectin diet while also severely limiting sugars/fruits, so I am basically down to sweet potatoes and yams as high carb sources. I was thinking of adding in some powdered carb sources to my daily smoothie. \\n\\n1/4 cup of Arrowroot Flour has 26g of carbs, zero sugar, zero protein, and zero fiber...\\n\\n1/4 cup of Cass...</td>\n",
       "      <td>1652205599</td>\n",
       "    </tr>\n",
       "    <tr>\n",
       "      <th>2</th>\n",
       "      <td>Paleo</td>\n",
       "      <td>I’ve been using monk fruit sweetener for everything, has anyone noticed this effecting weight loss?</td>\n",
       "      <td>NaN</td>\n",
       "      <td>1652204018</td>\n",
       "    </tr>\n",
       "    <tr>\n",
       "      <th>3</th>\n",
       "      <td>Paleo</td>\n",
       "      <td>Grain free UNSWEETENED granola I can buy? Recommendations?</td>\n",
       "      <td>NaN</td>\n",
       "      <td>1652203919</td>\n",
       "    </tr>\n",
       "    <tr>\n",
       "      <th>4</th>\n",
       "      <td>Paleo</td>\n",
       "      <td>Bananas! They aren’t paleo bc of the sugar content, but honey and maple syrup is?! Can someone explain…?</td>\n",
       "      <td>NaN</td>\n",
       "      <td>1652203879</td>\n",
       "    </tr>\n",
       "  </tbody>\n",
       "</table>\n",
       "</div>"
      ],
      "text/plain": [
       "  subreddit  \\\n",
       "0     Paleo   \n",
       "1     Paleo   \n",
       "2     Paleo   \n",
       "3     Paleo   \n",
       "4     Paleo   \n",
       "\n",
       "                                                                                                      title  \\\n",
       "0                   This is my meal for the day. Let me hope that I don't get charged with \"bird genocide\".   \n",
       "1                                     Coconut/Cassava/Arrowroot flours in Shakes for more carbs? Which one?   \n",
       "2       I’ve been using monk fruit sweetener for everything, has anyone noticed this effecting weight loss?   \n",
       "3                                                Grain free UNSWEETENED granola I can buy? Recommendations?   \n",
       "4  Bananas! They aren’t paleo bc of the sugar content, but honey and maple syrup is?! Can someone explain…?   \n",
       "\n",
       "                                                                                                                                                                                                                                                                                                                                                                                                          selftext  \\\n",
       "0                                                                                                                                                                                                                                                                                                                                                                                                              NaN   \n",
       "1  I am working out like crazy and need to up my carbs to stay afloat. I am on low-lectin diet while also severely limiting sugars/fruits, so I am basically down to sweet potatoes and yams as high carb sources. I was thinking of adding in some powdered carb sources to my daily smoothie. \\n\\n1/4 cup of Arrowroot Flour has 26g of carbs, zero sugar, zero protein, and zero fiber...\\n\\n1/4 cup of Cass...   \n",
       "2                                                                                                                                                                                                                                                                                                                                                                                                              NaN   \n",
       "3                                                                                                                                                                                                                                                                                                                                                                                                              NaN   \n",
       "4                                                                                                                                                                                                                                                                                                                                                                                                              NaN   \n",
       "\n",
       "   created_utc  \n",
       "0   1652208666  \n",
       "1   1652205599  \n",
       "2   1652204018  \n",
       "3   1652203919  \n",
       "4   1652203879  "
      ]
     },
     "execution_count": 4,
     "metadata": {},
     "output_type": "execute_result"
    }
   ],
   "source": [
    "paleo.head()"
   ]
  },
  {
   "cell_type": "code",
   "execution_count": 5,
   "id": "e1236934-1b1e-422d-b396-ad18aa4220a1",
   "metadata": {},
   "outputs": [
    {
     "data": {
      "text/plain": [
       "subreddit         0\n",
       "title             0\n",
       "selftext       2306\n",
       "created_utc       0\n",
       "dtype: int64"
      ]
     },
     "execution_count": 5,
     "metadata": {},
     "output_type": "execute_result"
    }
   ],
   "source": [
    "plant_based.isnull().sum()"
   ]
  },
  {
   "cell_type": "code",
   "execution_count": 6,
   "id": "0b768d78-afda-496c-b8d9-27913160b8c6",
   "metadata": {},
   "outputs": [
    {
     "data": {
      "text/plain": [
       "subreddit         0\n",
       "title             0\n",
       "selftext       2130\n",
       "created_utc       0\n",
       "dtype: int64"
      ]
     },
     "execution_count": 6,
     "metadata": {},
     "output_type": "execute_result"
    }
   ],
   "source": [
    "paleo.isnull().sum()"
   ]
  },
  {
   "cell_type": "markdown",
   "id": "856b74e0-9534-4b22-8f61-bb410d0f84b3",
   "metadata": {},
   "source": [
    "The selftext feature is missing over 40% of the values in both datasets, and they cannot be imputed. The created_utc feature is not missing any values, but it is no longer useful as the time of submission is not relevant. As a result, the features will be dropped."
   ]
  },
  {
   "cell_type": "code",
   "execution_count": 7,
   "id": "3bf95458-9fc8-434f-9972-5afb78284e1f",
   "metadata": {},
   "outputs": [],
   "source": [
    "# Dropping the selftext and created_utc features for each dataset\n",
    "\n",
    "plant_based = plant_based.drop(columns = ['selftext', 'created_utc'])\n",
    "paleo = paleo.drop(columns = ['selftext', 'created_utc'])"
   ]
  },
  {
   "cell_type": "markdown",
   "id": "28808d67-39a7-4937-8b83-e3ed8702ee75",
   "metadata": {},
   "source": [
    "---\n",
    "## 3. EDA (Part 1): Character & Word Counts"
   ]
  },
  {
   "cell_type": "code",
   "execution_count": 8,
   "id": "f59da33e-83dc-4d30-918a-47e819adcb28",
   "metadata": {},
   "outputs": [],
   "source": [
    "# Adding 'title_char_count' and 'title_word_count' columns to each of the datasets\n",
    "\n",
    "plant_based['title_char_count'] = plant_based['title'].map(len)\n",
    "plant_based['title_word_count'] = plant_based['title'].map(lambda x: len(x.split(' ')))\n",
    "\n",
    "paleo['title_char_count'] = paleo['title'].map(len)\n",
    "paleo['title_word_count'] = paleo['title'].map(lambda x: len(x.split(' ')))"
   ]
  },
  {
   "cell_type": "code",
   "execution_count": 10,
   "id": "21650be8-890f-4f49-8be8-2fbb886f1e4c",
   "metadata": {},
   "outputs": [
    {
     "data": {
      "image/png": "[encoded data removed]",
      "text/plain": [
       "<Figure size 1080x360 with 2 Axes>"
      ]
     },
     "metadata": {
      "needs_background": "light"
     },
     "output_type": "display_data"
    }
   ],
   "source": [
    "# Distribution of titles by character count\n",
    "\n",
    "fig, axs = plt.subplots(1, 2, figsize = (15, 5), sharey = True, sharex = True)\n",
    "\n",
    "a = plant_based['title_char_count'].hist(ax = axs[0])\n",
    "b = paleo['title_char_count'].hist(ax = axs[1])\n",
    "\n",
    "a.set(title = 'plant_based')\n",
    "b.set(title = 'paleo')\n",
    "\n",
    "fig.suptitle('Distribution of titles by character count');"
   ]
  },
  {
   "cell_type": "markdown",
   "id": "4e96c4c2-4cec-4129-af10-ba55bfc21fb9",
   "metadata": {},
   "source": [
    "The distribution of titles by character count are almost identical between both datasets. Both are unimodal and right-skewed, with the majority of titles in the under 60 characters range. Both datasets have titles with as many as 300 characters."
   ]
  },
  {
   "cell_type": "code",
   "execution_count": 11,
   "id": "135265f4-2044-4da0-99da-55bf2e78cea6",
   "metadata": {},
   "outputs": [
    {
     "data": {
      "image/png": "[encoded data removed]",
      "text/plain": [
       "<Figure size 1080x360 with 2 Axes>"
      ]
     },
     "metadata": {
      "needs_background": "light"
     },
     "output_type": "display_data"
    }
   ],
   "source": [
    "# Distribution of titles by word count\n",
    "\n",
    "fig, axs = plt.subplots(1, 2, figsize = (15, 5), sharey = True, sharex = True)\n",
    "\n",
    "a = plant_based['title_word_count'].hist(ax = axs[0])\n",
    "b = paleo['title_word_count'].hist(ax = axs[1])\n",
    "\n",
    "a.set(title = 'plant_based')\n",
    "b.set(title = 'paleo')\n",
    "\n",
    "fig.suptitle('Distribution of titles by word count');"
   ]
  },
  {
   "cell_type": "markdown",
   "id": "ae75069d-ecb8-47c0-b9e1-f427e487f876",
   "metadata": {},
   "source": [
    "The distribution of titles by word count are once again similar between the datasets, but they do vary a bit more. The distributions remain unimodal and right-skewed, with the majority of titles in the under 12 words range. Both datasets have titles with as many as 60 words."
   ]
  },
  {
   "cell_type": "code",
   "execution_count": 12,
   "id": "7c8dea58-3295-49ac-bae5-2fbc3609f6e6",
   "metadata": {},
   "outputs": [
    {
     "name": "stdout",
     "output_type": "stream",
     "text": [
      "Total characters in the plant_based DataFrame: 287269\n",
      "Total words in the plant_based DataFrame: 49337\n"
     ]
    },
    {
     "data": {
      "text/html": [
       "<div>\n",
       "<style scoped>\n",
       "    .dataframe tbody tr th:only-of-type {\n",
       "        vertical-align: middle;\n",
       "    }\n",
       "\n",
       "    .dataframe tbody tr th {\n",
       "        vertical-align: top;\n",
       "    }\n",
       "\n",
       "    .dataframe thead th {\n",
       "        text-align: right;\n",
       "    }\n",
       "</style>\n",
       "<table border=\"1\" class=\"dataframe\">\n",
       "  <thead>\n",
       "    <tr style=\"text-align: right;\">\n",
       "      <th></th>\n",
       "      <th>title_char_count</th>\n",
       "      <th>title_word_count</th>\n",
       "    </tr>\n",
       "  </thead>\n",
       "  <tbody>\n",
       "    <tr>\n",
       "      <th>count</th>\n",
       "      <td>4999.000000</td>\n",
       "      <td>4999.000000</td>\n",
       "    </tr>\n",
       "    <tr>\n",
       "      <th>mean</th>\n",
       "      <td>57.465293</td>\n",
       "      <td>9.869374</td>\n",
       "    </tr>\n",
       "    <tr>\n",
       "      <th>std</th>\n",
       "      <td>48.170303</td>\n",
       "      <td>8.608181</td>\n",
       "    </tr>\n",
       "    <tr>\n",
       "      <th>min</th>\n",
       "      <td>1.000000</td>\n",
       "      <td>1.000000</td>\n",
       "    </tr>\n",
       "    <tr>\n",
       "      <th>25%</th>\n",
       "      <td>28.000000</td>\n",
       "      <td>4.000000</td>\n",
       "    </tr>\n",
       "    <tr>\n",
       "      <th>50%</th>\n",
       "      <td>44.000000</td>\n",
       "      <td>7.000000</td>\n",
       "    </tr>\n",
       "    <tr>\n",
       "      <th>75%</th>\n",
       "      <td>69.000000</td>\n",
       "      <td>12.000000</td>\n",
       "    </tr>\n",
       "    <tr>\n",
       "      <th>max</th>\n",
       "      <td>308.000000</td>\n",
       "      <td>62.000000</td>\n",
       "    </tr>\n",
       "  </tbody>\n",
       "</table>\n",
       "</div>"
      ],
      "text/plain": [
       "       title_char_count  title_word_count\n",
       "count       4999.000000       4999.000000\n",
       "mean          57.465293          9.869374\n",
       "std           48.170303          8.608181\n",
       "min            1.000000          1.000000\n",
       "25%           28.000000          4.000000\n",
       "50%           44.000000          7.000000\n",
       "75%           69.000000         12.000000\n",
       "max          308.000000         62.000000"
      ]
     },
     "execution_count": 12,
     "metadata": {},
     "output_type": "execute_result"
    }
   ],
   "source": [
    "print('Total characters in the plant_based DataFrame: ' + str(plant_based['title_char_count'].sum()))\n",
    "print('Total words in the plant_based DataFrame: ' + str(plant_based['title_word_count'].sum()))\n",
    "plant_based.describe()"
   ]
  },
  {
   "cell_type": "code",
   "execution_count": 13,
   "id": "95955ea2-9b01-4ea4-9883-af2c849a3f0d",
   "metadata": {},
   "outputs": [
    {
     "name": "stdout",
     "output_type": "stream",
     "text": [
      "Total characters in the paleo DataFrame: 283772\n",
      "Total words in the paleo DataFrame: 47356\n"
     ]
    },
    {
     "data": {
      "text/html": [
       "<div>\n",
       "<style scoped>\n",
       "    .dataframe tbody tr th:only-of-type {\n",
       "        vertical-align: middle;\n",
       "    }\n",
       "\n",
       "    .dataframe tbody tr th {\n",
       "        vertical-align: top;\n",
       "    }\n",
       "\n",
       "    .dataframe thead th {\n",
       "        text-align: right;\n",
       "    }\n",
       "</style>\n",
       "<table border=\"1\" class=\"dataframe\">\n",
       "  <thead>\n",
       "    <tr style=\"text-align: right;\">\n",
       "      <th></th>\n",
       "      <th>title_char_count</th>\n",
       "      <th>title_word_count</th>\n",
       "    </tr>\n",
       "  </thead>\n",
       "  <tbody>\n",
       "    <tr>\n",
       "      <th>count</th>\n",
       "      <td>4998.000000</td>\n",
       "      <td>4998.000000</td>\n",
       "    </tr>\n",
       "    <tr>\n",
       "      <th>mean</th>\n",
       "      <td>56.777111</td>\n",
       "      <td>9.474990</td>\n",
       "    </tr>\n",
       "    <tr>\n",
       "      <th>std</th>\n",
       "      <td>44.966832</td>\n",
       "      <td>7.931622</td>\n",
       "    </tr>\n",
       "    <tr>\n",
       "      <th>min</th>\n",
       "      <td>3.000000</td>\n",
       "      <td>1.000000</td>\n",
       "    </tr>\n",
       "    <tr>\n",
       "      <th>25%</th>\n",
       "      <td>29.000000</td>\n",
       "      <td>5.000000</td>\n",
       "    </tr>\n",
       "    <tr>\n",
       "      <th>50%</th>\n",
       "      <td>45.000000</td>\n",
       "      <td>7.000000</td>\n",
       "    </tr>\n",
       "    <tr>\n",
       "      <th>75%</th>\n",
       "      <td>69.000000</td>\n",
       "      <td>11.000000</td>\n",
       "    </tr>\n",
       "    <tr>\n",
       "      <th>max</th>\n",
       "      <td>310.000000</td>\n",
       "      <td>61.000000</td>\n",
       "    </tr>\n",
       "  </tbody>\n",
       "</table>\n",
       "</div>"
      ],
      "text/plain": [
       "       title_char_count  title_word_count\n",
       "count       4998.000000       4998.000000\n",
       "mean          56.777111          9.474990\n",
       "std           44.966832          7.931622\n",
       "min            3.000000          1.000000\n",
       "25%           29.000000          5.000000\n",
       "50%           45.000000          7.000000\n",
       "75%           69.000000         11.000000\n",
       "max          310.000000         61.000000"
      ]
     },
     "execution_count": 13,
     "metadata": {},
     "output_type": "execute_result"
    }
   ],
   "source": [
    "print('Total characters in the paleo DataFrame: ' + str(paleo['title_char_count'].sum()))\n",
    "print('Total words in the paleo DataFrame: ' + str(paleo['title_word_count'].sum()))\n",
    "paleo.describe()"
   ]
  },
  {
   "cell_type": "markdown",
   "id": "17d55662-d407-4ecc-ba66-57be201c661d",
   "metadata": {},
   "source": [
    "The total number of characters and words are comparable between the datasets, though the plant-based dataset has about 3,500 more characters and 2,000 more words. Despite this, the character and word means are about the same. These added features are not likely to aid in classifying between the diets."
   ]
  },
  {
   "cell_type": "markdown",
   "id": "cdad721e-4a6a-41e0-880d-f8a04966a3ca",
   "metadata": {},
   "source": [
    "---\n",
    "## 4. Cleaning\n",
    "\n",
    "* Removing URLs, special characters, emojis, punctuation and digits\n",
    "* Mapping subreddit names to binary values"
   ]
  },
  {
   "cell_type": "markdown",
   "id": "3bab5668-447d-4b86-b953-902be4e43a66",
   "metadata": {},
   "source": [
    "### 4.1. plant_based"
   ]
  },
  {
   "cell_type": "code",
   "execution_count": 14,
   "id": "6b9705d4-32d8-4911-acd2-b8e9c4c24d3f",
   "metadata": {},
   "outputs": [
    {
     "data": {
      "text/html": [
       "<div>\n",
       "<style scoped>\n",
       "    .dataframe tbody tr th:only-of-type {\n",
       "        vertical-align: middle;\n",
       "    }\n",
       "\n",
       "    .dataframe tbody tr th {\n",
       "        vertical-align: top;\n",
       "    }\n",
       "\n",
       "    .dataframe thead th {\n",
       "        text-align: right;\n",
       "    }\n",
       "</style>\n",
       "<table border=\"1\" class=\"dataframe\">\n",
       "  <thead>\n",
       "    <tr style=\"text-align: right;\">\n",
       "      <th></th>\n",
       "      <th>subreddit</th>\n",
       "      <th>title</th>\n",
       "      <th>title_char_count</th>\n",
       "      <th>title_word_count</th>\n",
       "    </tr>\n",
       "  </thead>\n",
       "  <tbody>\n",
       "    <tr>\n",
       "      <th>447</th>\n",
       "      <td>PlantBasedDiet</td>\n",
       "      <td>Chocolate chip cookies! So good! 🍪 https://veggiekinsblog.com/2020/05/</td>\n",
       "      <td>70</td>\n",
       "      <td>7</td>\n",
       "    </tr>\n",
       "    <tr>\n",
       "      <th>526</th>\n",
       "      <td>PlantBasedDiet</td>\n",
       "      <td>We have you covered when it comes to plant-based copy cats.. Check our vegan lasagna recipe👇 https://www.theplantpowerpeople.com/lasagna</td>\n",
       "      <td>136</td>\n",
       "      <td>17</td>\n",
       "    </tr>\n",
       "    <tr>\n",
       "      <th>1387</th>\n",
       "      <td>PlantBasedDiet</td>\n",
       "      <td>Fast food is getting more interesting. We can get plant based meat at KFC, Burger King and now Pizza Hut too! https://essfeed.com/f/pizza-hut-adds-beyond-meat-sausage</td>\n",
       "      <td>166</td>\n",
       "      <td>22</td>\n",
       "    </tr>\n",
       "    <tr>\n",
       "      <th>1821</th>\n",
       "      <td>PlantBasedDiet</td>\n",
       "      <td>https://beautifulingredient.com/quinoa-bacon-bits/</td>\n",
       "      <td>50</td>\n",
       "      <td>1</td>\n",
       "    </tr>\n",
       "    <tr>\n",
       "      <th>1893</th>\n",
       "      <td>PlantBasedDiet</td>\n",
       "      <td>Complementary plant based recipes for the holidays! Hope you all enjoy them. www.marriedtohealth.com</td>\n",
       "      <td>100</td>\n",
       "      <td>13</td>\n",
       "    </tr>\n",
       "    <tr>\n",
       "      <th>2437</th>\n",
       "      <td>PlantBasedDiet</td>\n",
       "      <td>Absolutely love the memes that debug your brain is creating on his IG account at the moment https://instagram.com/debugyourbrain?utm_medium=copy_link</td>\n",
       "      <td>149</td>\n",
       "      <td>18</td>\n",
       "    </tr>\n",
       "    <tr>\n",
       "      <th>2670</th>\n",
       "      <td>PlantBasedDiet</td>\n",
       "      <td>https://barefeetinthekitchen.com/simple-homemade-chocolate-sauce/#wprm-recipe-container-22065. Pumpkin oatmeal cookies with chocolate sauce icing 😋</td>\n",
       "      <td>147</td>\n",
       "      <td>9</td>\n",
       "    </tr>\n",
       "    <tr>\n",
       "      <th>3108</th>\n",
       "      <td>PlantBasedDiet</td>\n",
       "      <td>sucavu.com/?wa=Koken</td>\n",
       "      <td>20</td>\n",
       "      <td>1</td>\n",
       "    </tr>\n",
       "    <tr>\n",
       "      <th>3445</th>\n",
       "      <td>PlantBasedDiet</td>\n",
       "      <td>Rice and peas with an oil free, summer legume salad on the side. Please follow my Instagram if you like this food! https://instagram.com/plant.based.pigs?utm_medium=copy_link</td>\n",
       "      <td>174</td>\n",
       "      <td>23</td>\n",
       "    </tr>\n",
       "    <tr>\n",
       "      <th>4167</th>\n",
       "      <td>PlantBasedDiet</td>\n",
       "      <td>Chocolate Pudding Pie (recipe is from plantbasedcookingshow.com) Crust:1c dates, 1/2c cocoa, 1.5c almond meal. Filling: 14oz silken tofu, 1c dates, 3/4c cocoa, 1tsp vanilla, 1c raw cashews, 1/2c plant based milk. I used berries on top instead of toasted coconut! Highly recommend this website!</td>\n",
       "      <td>293</td>\n",
       "      <td>44</td>\n",
       "    </tr>\n",
       "    <tr>\n",
       "      <th>4383</th>\n",
       "      <td>PlantBasedDiet</td>\n",
       "      <td>https://filmi-beats.blogspot.com/2021/05/IRON-MAN-ROBERT-DOWNEY-JR.-HD-WALLPAPER.html</td>\n",
       "      <td>85</td>\n",
       "      <td>1</td>\n",
       "    </tr>\n",
       "    <tr>\n",
       "      <th>4604</th>\n",
       "      <td>PlantBasedDiet</td>\n",
       "      <td>plantstrong.com/</td>\n",
       "      <td>16</td>\n",
       "      <td>1</td>\n",
       "    </tr>\n",
       "  </tbody>\n",
       "</table>\n",
       "</div>"
      ],
      "text/plain": [
       "           subreddit  \\\n",
       "447   PlantBasedDiet   \n",
       "526   PlantBasedDiet   \n",
       "1387  PlantBasedDiet   \n",
       "1821  PlantBasedDiet   \n",
       "1893  PlantBasedDiet   \n",
       "2437  PlantBasedDiet   \n",
       "2670  PlantBasedDiet   \n",
       "3108  PlantBasedDiet   \n",
       "3445  PlantBasedDiet   \n",
       "4167  PlantBasedDiet   \n",
       "4383  PlantBasedDiet   \n",
       "4604  PlantBasedDiet   \n",
       "\n",
       "                                                                                                                                                                                                                                                                                                      title  \\\n",
       "447                                                                                                                                                                                                                                  Chocolate chip cookies! So good! 🍪 https://veggiekinsblog.com/2020/05/   \n",
       "526                                                                                                                                                                We have you covered when it comes to plant-based copy cats.. Check our vegan lasagna recipe👇 https://www.theplantpowerpeople.com/lasagna   \n",
       "1387                                                                                                                                 Fast food is getting more interesting. We can get plant based meat at KFC, Burger King and now Pizza Hut too! https://essfeed.com/f/pizza-hut-adds-beyond-meat-sausage   \n",
       "1821                                                                                                                                                                                                                                                     https://beautifulingredient.com/quinoa-bacon-bits/   \n",
       "1893                                                                                                                                                                                                   Complementary plant based recipes for the holidays! Hope you all enjoy them. www.marriedtohealth.com   \n",
       "2437                                                                                                                                                  Absolutely love the memes that debug your brain is creating on his IG account at the moment https://instagram.com/debugyourbrain?utm_medium=copy_link   \n",
       "2670                                                                                                                                                    https://barefeetinthekitchen.com/simple-homemade-chocolate-sauce/#wprm-recipe-container-22065. Pumpkin oatmeal cookies with chocolate sauce icing 😋   \n",
       "3108                                                                                                                                                                                                                                                                                   sucavu.com/?wa=Koken   \n",
       "3445                                                                                                                         Rice and peas with an oil free, summer legume salad on the side. Please follow my Instagram if you like this food! https://instagram.com/plant.based.pigs?utm_medium=copy_link   \n",
       "4167  Chocolate Pudding Pie (recipe is from plantbasedcookingshow.com) Crust:1c dates, 1/2c cocoa, 1.5c almond meal. Filling: 14oz silken tofu, 1c dates, 3/4c cocoa, 1tsp vanilla, 1c raw cashews, 1/2c plant based milk. I used berries on top instead of toasted coconut! Highly recommend this website!   \n",
       "4383                                                                                                                                                                                                                  https://filmi-beats.blogspot.com/2021/05/IRON-MAN-ROBERT-DOWNEY-JR.-HD-WALLPAPER.html   \n",
       "4604                                                                                                                                                                                                                                                                                       plantstrong.com/   \n",
       "\n",
       "      title_char_count  title_word_count  \n",
       "447                 70                 7  \n",
       "526                136                17  \n",
       "1387               166                22  \n",
       "1821                50                 1  \n",
       "1893               100                13  \n",
       "2437               149                18  \n",
       "2670               147                 9  \n",
       "3108                20                 1  \n",
       "3445               174                23  \n",
       "4167               293                44  \n",
       "4383                85                 1  \n",
       "4604                16                 1  "
      ]
     },
     "execution_count": 14,
     "metadata": {},
     "output_type": "execute_result"
    }
   ],
   "source": [
    "# Searching for URLs that end in .com\n",
    "\n",
    "plant_based.loc[plant_based['title'].str.contains('.com', regex=False)]"
   ]
  },
  {
   "cell_type": "code",
   "execution_count": 15,
   "id": "dfe1c7c2-ffbb-465e-ac28-d6f3ea140a40",
   "metadata": {},
   "outputs": [
    {
     "data": {
      "text/html": [
       "<div>\n",
       "<style scoped>\n",
       "    .dataframe tbody tr th:only-of-type {\n",
       "        vertical-align: middle;\n",
       "    }\n",
       "\n",
       "    .dataframe tbody tr th {\n",
       "        vertical-align: top;\n",
       "    }\n",
       "\n",
       "    .dataframe thead th {\n",
       "        text-align: right;\n",
       "    }\n",
       "</style>\n",
       "<table border=\"1\" class=\"dataframe\">\n",
       "  <thead>\n",
       "    <tr style=\"text-align: right;\">\n",
       "      <th></th>\n",
       "      <th>subreddit</th>\n",
       "      <th>title</th>\n",
       "      <th>title_char_count</th>\n",
       "      <th>title_word_count</th>\n",
       "    </tr>\n",
       "  </thead>\n",
       "  <tbody>\n",
       "    <tr>\n",
       "      <th>2176</th>\n",
       "      <td>PlantBasedDiet</td>\n",
       "      <td>MUST check out. Smarty Plants recipes made eating plant based actually delicious. Quit the processed foods and try this out https://smartyplants.org/blog</td>\n",
       "      <td>153</td>\n",
       "      <td>21</td>\n",
       "    </tr>\n",
       "    <tr>\n",
       "      <th>4663</th>\n",
       "      <td>PlantBasedDiet</td>\n",
       "      <td>NutritionFacts.org Live Q&amp;amp;A Browser</td>\n",
       "      <td>39</td>\n",
       "      <td>4</td>\n",
       "    </tr>\n",
       "  </tbody>\n",
       "</table>\n",
       "</div>"
      ],
      "text/plain": [
       "           subreddit  \\\n",
       "2176  PlantBasedDiet   \n",
       "4663  PlantBasedDiet   \n",
       "\n",
       "                                                                                                                                                          title  \\\n",
       "2176  MUST check out. Smarty Plants recipes made eating plant based actually delicious. Quit the processed foods and try this out https://smartyplants.org/blog   \n",
       "4663                                                                                                                    NutritionFacts.org Live Q&amp;A Browser   \n",
       "\n",
       "      title_char_count  title_word_count  \n",
       "2176               153                21  \n",
       "4663                39                 4  "
      ]
     },
     "execution_count": 15,
     "metadata": {},
     "output_type": "execute_result"
    }
   ],
   "source": [
    "# Searching for URLs that end in .org\n",
    "\n",
    "plant_based.loc[plant_based['title'].str.contains('.org', regex=False)]"
   ]
  },
  {
   "cell_type": "markdown",
   "id": "4181ab06-2fc6-45af-8762-3659d26a130d",
   "metadata": {},
   "source": [
    "*NOTE: Additional extensions were searched, but there were no results. Only .com and .org extensions \n",
    "needed to be removed.*"
   ]
  },
  {
   "cell_type": "code",
   "execution_count": 16,
   "id": "2e5f7a99-abbd-4598-8783-86ecbd188dd1",
   "metadata": {},
   "outputs": [],
   "source": [
    "# Removing URLs\n",
    "\n",
    "plant_based['title'] = plant_based['title'].str.replace('[^ ]+\\.com[^ ]+', '')\n",
    "plant_based['title'] = plant_based['title'].str.replace('[^ ]+\\.com', '')\n",
    "plant_based['title'] = plant_based['title'].str.replace('[^ ]+\\.org[^ ]+', '')\n",
    "plant_based['title'] = plant_based['title'].str.replace('[^ ]+\\.org', '')"
   ]
  },
  {
   "cell_type": "code",
   "execution_count": 17,
   "id": "4fcbc7e4-5ee1-4377-8ba4-a82cc17c75bc",
   "metadata": {},
   "outputs": [],
   "source": [
    "# Removing special characters, punctuation, digits and emojis\n",
    "\n",
    "plant_based['title'] = plant_based['title'].str.replace('[^a-zA-Z]', ' ')"
   ]
  },
  {
   "cell_type": "code",
   "execution_count": null,
   "id": "2c873b99-f3f9-4235-9fa4-69db78505541",
   "metadata": {},
   "outputs": [],
   "source": [
    "# Mapping subreddit names to binary values\n",
    "\n",
    "plant_based['subreddit'] = plant_based['subreddit'].map({'PlantBasedDiet' : 0})"
   ]
  },
  {
   "cell_type": "code",
   "execution_count": 18,
   "id": "b256fa17-0b12-4f6a-be98-06045c90a674",
   "metadata": {},
   "outputs": [
    {
     "data": {
      "text/plain": [
       "subreddit           0\n",
       "title               0\n",
       "title_char_count    0\n",
       "title_word_count    0\n",
       "dtype: int64"
      ]
     },
     "execution_count": 18,
     "metadata": {},
     "output_type": "execute_result"
    }
   ],
   "source": [
    "# Checking for null values\n",
    "\n",
    "plant_based.isnull().sum()"
   ]
  },
  {
   "cell_type": "markdown",
   "id": "22b5acc6-afbd-435e-a4fe-441b226bd75e",
   "metadata": {},
   "source": [
    "### 4.2. paleo"
   ]
  },
  {
   "cell_type": "code",
   "execution_count": 19,
   "id": "f69d2daa-9d69-4b7c-b666-c758b292da35",
   "metadata": {},
   "outputs": [
    {
     "data": {
      "text/html": [
       "<div>\n",
       "<style scoped>\n",
       "    .dataframe tbody tr th:only-of-type {\n",
       "        vertical-align: middle;\n",
       "    }\n",
       "\n",
       "    .dataframe tbody tr th {\n",
       "        vertical-align: top;\n",
       "    }\n",
       "\n",
       "    .dataframe thead th {\n",
       "        text-align: right;\n",
       "    }\n",
       "</style>\n",
       "<table border=\"1\" class=\"dataframe\">\n",
       "  <thead>\n",
       "    <tr style=\"text-align: right;\">\n",
       "      <th></th>\n",
       "      <th>subreddit</th>\n",
       "      <th>title</th>\n",
       "      <th>title_char_count</th>\n",
       "      <th>title_word_count</th>\n",
       "    </tr>\n",
       "  </thead>\n",
       "  <tbody>\n",
       "    <tr>\n",
       "      <th>1998</th>\n",
       "      <td>Paleo</td>\n",
       "      <td>LOVE www.Factor75.com ($40 Off and Free Shipping!)</td>\n",
       "      <td>50</td>\n",
       "      <td>7</td>\n",
       "    </tr>\n",
       "    <tr>\n",
       "      <th>2257</th>\n",
       "      <td>Paleo</td>\n",
       "      <td>Kho Sim Số Đẹp Giá Rẻ, Uy Tín Lớn Nhất Việt Nam | KhoSim.com</td>\n",
       "      <td>60</td>\n",
       "      <td>14</td>\n",
       "    </tr>\n",
       "    <tr>\n",
       "      <th>4038</th>\n",
       "      <td>Paleo</td>\n",
       "      <td>Ginger scallion sauce https://paleogirl99.com/2015/03/17/ginger-scallion-sauce/</td>\n",
       "      <td>79</td>\n",
       "      <td>4</td>\n",
       "    </tr>\n",
       "    <tr>\n",
       "      <th>4353</th>\n",
       "      <td>Paleo</td>\n",
       "      <td>Are you committed to healthy/clean eating and want to take an online survey for a chance to win a $50 Amazon.com gift card?</td>\n",
       "      <td>123</td>\n",
       "      <td>23</td>\n",
       "    </tr>\n",
       "    <tr>\n",
       "      <th>4689</th>\n",
       "      <td>Paleo</td>\n",
       "      <td>[BLOGSPAM] Presenting you- THE PRIMAL MILLENNIAL https://www.theprimalmillennial.com</td>\n",
       "      <td>84</td>\n",
       "      <td>7</td>\n",
       "    </tr>\n",
       "  </tbody>\n",
       "</table>\n",
       "</div>"
      ],
      "text/plain": [
       "     subreddit  \\\n",
       "1998     Paleo   \n",
       "2257     Paleo   \n",
       "4038     Paleo   \n",
       "4353     Paleo   \n",
       "4689     Paleo   \n",
       "\n",
       "                                                                                                                            title  \\\n",
       "1998                                                                           LOVE www.Factor75.com ($40 Off and Free Shipping!)   \n",
       "2257                                                                 Kho Sim Số Đẹp Giá Rẻ, Uy Tín Lớn Nhất Việt Nam | KhoSim.com   \n",
       "4038                                              Ginger scallion sauce https://paleogirl99.com/2015/03/17/ginger-scallion-sauce/   \n",
       "4353  Are you committed to healthy/clean eating and want to take an online survey for a chance to win a $50 Amazon.com gift card?   \n",
       "4689                                         [BLOGSPAM] Presenting you- THE PRIMAL MILLENNIAL https://www.theprimalmillennial.com   \n",
       "\n",
       "      title_char_count  title_word_count  \n",
       "1998                50                 7  \n",
       "2257                60                14  \n",
       "4038                79                 4  \n",
       "4353               123                23  \n",
       "4689                84                 7  "
      ]
     },
     "execution_count": 19,
     "metadata": {},
     "output_type": "execute_result"
    }
   ],
   "source": [
    "# Searching for URLs that end in .com\n",
    "\n",
    "paleo.loc[paleo['title'].str.contains('.com', regex=False)]"
   ]
  },
  {
   "cell_type": "code",
   "execution_count": 20,
   "id": "499524bc-259a-4e5b-8153-4b73f854fbf2",
   "metadata": {},
   "outputs": [
    {
     "data": {
      "text/html": [
       "<div>\n",
       "<style scoped>\n",
       "    .dataframe tbody tr th:only-of-type {\n",
       "        vertical-align: middle;\n",
       "    }\n",
       "\n",
       "    .dataframe tbody tr th {\n",
       "        vertical-align: top;\n",
       "    }\n",
       "\n",
       "    .dataframe thead th {\n",
       "        text-align: right;\n",
       "    }\n",
       "</style>\n",
       "<table border=\"1\" class=\"dataframe\">\n",
       "  <thead>\n",
       "    <tr style=\"text-align: right;\">\n",
       "      <th></th>\n",
       "      <th>subreddit</th>\n",
       "      <th>title</th>\n",
       "      <th>title_char_count</th>\n",
       "      <th>title_word_count</th>\n",
       "    </tr>\n",
       "  </thead>\n",
       "  <tbody>\n",
       "    <tr>\n",
       "      <th>3105</th>\n",
       "      <td>Paleo</td>\n",
       "      <td>Higher Cholesterol Is Associated With Longer Life - Mission.org - Medium</td>\n",
       "      <td>72</td>\n",
       "      <td>11</td>\n",
       "    </tr>\n",
       "  </tbody>\n",
       "</table>\n",
       "</div>"
      ],
      "text/plain": [
       "     subreddit  \\\n",
       "3105     Paleo   \n",
       "\n",
       "                                                                         title  \\\n",
       "3105  Higher Cholesterol Is Associated With Longer Life - Mission.org - Medium   \n",
       "\n",
       "      title_char_count  title_word_count  \n",
       "3105                72                11  "
      ]
     },
     "execution_count": 20,
     "metadata": {},
     "output_type": "execute_result"
    }
   ],
   "source": [
    "# Searching for URLs that end in .org\n",
    "\n",
    "paleo.loc[paleo['title'].str.contains('.org', regex=False)]"
   ]
  },
  {
   "cell_type": "markdown",
   "id": "bb02f07d-c674-41eb-913e-e42735fb8c52",
   "metadata": {},
   "source": [
    "*NOTE: Again, additional extensions were searched, but there were no results. Only .com and .org extensions \n",
    "needed to be removed.*"
   ]
  },
  {
   "cell_type": "code",
   "execution_count": 21,
   "id": "5ea5bd5c-35c7-4a6e-b01a-e740decbaf22",
   "metadata": {},
   "outputs": [],
   "source": [
    "# Removing URLs\n",
    "\n",
    "paleo['title'] = paleo['title'].str.replace('[^ ]+\\.com[^ ]+', '')\n",
    "paleo['title'] = paleo['title'].str.replace('[^ ]+\\.com', '')\n",
    "paleo['title'] = paleo['title'].str.replace('[^ ]+\\.org[^ ]+', '')\n",
    "paleo['title'] = paleo['title'].str.replace('[^ ]+\\.org', '')"
   ]
  },
  {
   "cell_type": "code",
   "execution_count": 22,
   "id": "96f1e827-d325-4ec5-b960-f9ab480e93e6",
   "metadata": {},
   "outputs": [],
   "source": [
    "# Removing special characters, punctuation, digits and emojis\n",
    "\n",
    "paleo['title'] = paleo['title'].str.replace('[^a-zA-Z]', ' ')"
   ]
  },
  {
   "cell_type": "code",
   "execution_count": null,
   "id": "72db3c4d-f069-4a06-b586-72cb9eb9d3df",
   "metadata": {},
   "outputs": [],
   "source": [
    "# Mapping subreddit names to binary values\n",
    "\n",
    "paleo['subreddit'] = paleo['subreddit'].map({'Paleo' : 1})"
   ]
  },
  {
   "cell_type": "code",
   "execution_count": 23,
   "id": "4db47e2a-59ce-4fc5-947e-e500e6ed3713",
   "metadata": {},
   "outputs": [
    {
     "data": {
      "text/plain": [
       "subreddit           0\n",
       "title               0\n",
       "title_char_count    0\n",
       "title_word_count    0\n",
       "dtype: int64"
      ]
     },
     "execution_count": 23,
     "metadata": {},
     "output_type": "execute_result"
    }
   ],
   "source": [
    "# Checking for null values\n",
    "\n",
    "paleo.isnull().sum()"
   ]
  },
  {
   "cell_type": "markdown",
   "id": "376bde40-fb94-49ba-bc9f-0270b0a53dff",
   "metadata": {},
   "source": [
    "---\n",
    "## 5. EDA (Part 2): Unigrams & Bigrams"
   ]
  },
  {
   "cell_type": "code",
   "execution_count": 24,
   "id": "6debdb4d-1eaa-4e02-8875-fe0e43c7e44a",
   "metadata": {},
   "outputs": [],
   "source": [
    "# Extending the list of stopwords based on findings in this EDA portion\n",
    "\n",
    "stopwords = stopwords.words('english')\n",
    "new_stop_words = ['amp']\n",
    "stopwords.extend(new_stop_words)"
   ]
  },
  {
   "cell_type": "markdown",
   "id": "b7efdaab-2e61-4f49-af93-3c57c5f46bca",
   "metadata": {},
   "source": [
    "### 5.1. plant_based"
   ]
  },
  {
   "cell_type": "code",
   "execution_count": 25,
   "id": "64253d2a-5e63-49c8-9853-91fd3f1f6877",
   "metadata": {},
   "outputs": [],
   "source": [
    "# Unigrams\n",
    "\n",
    "pb_cvec = CountVectorizer(lowercase=True,\n",
    "                          analyzer='word',\n",
    "                          stop_words=stopwords)\n",
    "\n",
    "plant_based_cvec = pb_cvec.fit_transform(plant_based['title'])\n",
    "\n",
    "plant_based_cvec_df = pd.DataFrame(plant_based_cvec.todense(), columns = pb_cvec.get_feature_names_out())"
   ]
  },
  {
   "cell_type": "code",
   "execution_count": 26,
   "id": "52bd0f24-a281-4aa6-ad61-2584b08eaedf",
   "metadata": {},
   "outputs": [
    {
     "data": {
      "text/plain": [
       "(4999, 5972)"
      ]
     },
     "execution_count": 26,
     "metadata": {},
     "output_type": "execute_result"
    }
   ],
   "source": [
    "plant_based_cvec_df.shape"
   ]
  },
  {
   "cell_type": "markdown",
   "id": "5d237204-f99b-4db4-a1c6-068167ebc277",
   "metadata": {},
   "source": [
    "The CountVectorizer identified 5,972 distinct unigrams in the plant-based dataset after removing the stopwords."
   ]
  },
  {
   "cell_type": "code",
   "execution_count": 27,
   "id": "1731ac08-5b0c-401c-8786-9b5931810257",
   "metadata": {},
   "outputs": [
    {
     "data": {
      "text/plain": [
       "plant      690\n",
       "based      646\n",
       "diet       386\n",
       "vegan      384\n",
       "wfpb       260\n",
       "food       198\n",
       "recipe     187\n",
       "anyone     171\n",
       "recipes    168\n",
       "eat        168\n",
       "help       147\n",
       "protein    143\n",
       "eating     132\n",
       "healthy    131\n",
       "beans      130\n",
       "dtype: int64"
      ]
     },
     "execution_count": 27,
     "metadata": {},
     "output_type": "execute_result"
    }
   ],
   "source": [
    "plant_based_cvec_df.sum().sort_values(ascending=False).head(15)"
   ]
  },
  {
   "cell_type": "code",
   "execution_count": 47,
   "id": "4de23404-45c7-4182-9efd-d89fcf1a261d",
   "metadata": {},
   "outputs": [
    {
     "data": {
      "image/png": "[encoded data removed]",
      "text/plain": [
       "<Figure size 432x288 with 1 Axes>"
      ]
     },
     "metadata": {
      "needs_background": "light"
     },
     "output_type": "display_data"
    }
   ],
   "source": [
    "plant_based_cvec_df.sum().sort_values(ascending = False).head(15).plot(kind='barh', \n",
    "                                                                       title='15 Most Common Unigrams (plant_based)');"
   ]
  },
  {
   "cell_type": "markdown",
   "id": "a8082778-4790-4937-8218-5c4cd06f391b",
   "metadata": {},
   "source": [
    "The top 15 plant-based unigrams are not very interesting. They're either obviously referring to a plant-based diet or are general diet terms. "
   ]
  },
  {
   "cell_type": "code",
   "execution_count": 29,
   "id": "5971a550-256e-49ac-bc11-2c4e79a37065",
   "metadata": {},
   "outputs": [],
   "source": [
    "# Bigrams\n",
    "\n",
    "pb_cvec2 = CountVectorizer(lowercase=True,\n",
    "                          analyzer='word',\n",
    "                          stop_words=stopwords,\n",
    "                          ngram_range = (2, 2))\n",
    "\n",
    "plant_based_cvec2 = pb_cvec2.fit_transform(plant_based['title'])\n",
    "\n",
    "plant_based_cvec_df2 = pd.DataFrame(plant_based_cvec2.todense(), columns = pb_cvec2.get_feature_names_out())"
   ]
  },
  {
   "cell_type": "code",
   "execution_count": 30,
   "id": "68f21f55-f79f-435d-8a2d-5441679a134f",
   "metadata": {},
   "outputs": [
    {
     "data": {
      "text/plain": [
       "(4999, 21015)"
      ]
     },
     "execution_count": 30,
     "metadata": {},
     "output_type": "execute_result"
    }
   ],
   "source": [
    "plant_based_cvec_df2.shape"
   ]
  },
  {
   "cell_type": "markdown",
   "id": "7d474a64-160b-4ba4-8458-b65081a0993f",
   "metadata": {},
   "source": [
    "The CountVectorizer identified 21,015 distinct bigrams in the plant-based dataset after removing the stopwords."
   ]
  },
  {
   "cell_type": "code",
   "execution_count": 31,
   "id": "1e180719-d033-4934-8a1e-8ed9260bc794",
   "metadata": {},
   "outputs": [
    {
     "data": {
      "text/plain": [
       "plant based        624\n",
       "based diet         145\n",
       "weight loss         47\n",
       "wfpb diet           42\n",
       "sweet potato        40\n",
       "health benefits     33\n",
       "whole food          31\n",
       "oil free            29\n",
       "anyone else         27\n",
       "lose weight         26\n",
       "recipe comments     24\n",
       "high protein        24\n",
       "food plant          23\n",
       "first time          22\n",
       "black bean          21\n",
       "dtype: int64"
      ]
     },
     "execution_count": 31,
     "metadata": {},
     "output_type": "execute_result"
    }
   ],
   "source": [
    "plant_based_cvec_df2.sum().sort_values(ascending=False).head(15)"
   ]
  },
  {
   "cell_type": "code",
   "execution_count": 48,
   "id": "de090d06-ec59-47cd-889b-25206ce4f415",
   "metadata": {},
   "outputs": [
    {
     "data": {
      "image/png": "[encoded data removed]",
      "text/plain": [
       "<Figure size 432x288 with 1 Axes>"
      ]
     },
     "metadata": {
      "needs_background": "light"
     },
     "output_type": "display_data"
    }
   ],
   "source": [
    "plant_based_cvec_df2.sum().sort_values(ascending = False).head(15).plot(kind='barh', \n",
    "                                                                        title='15 Most Common Bigrams (plant_based)');"
   ]
  },
  {
   "cell_type": "markdown",
   "id": "b7504481-c7a0-4b07-a987-0f5bb6dafac5",
   "metadata": {},
   "source": [
    "The top 15 plant-based bigrams aren't all that interesting either. Again, they're either obviously referring to a plant-based diet or are general diet terms.\n",
    "\n",
    "Based on these unigram and bigram findings, it's uncertain how accurately the model will be able to distinguish whether or not a submission is plant-based if obvious terms aren't included."
   ]
  },
  {
   "cell_type": "markdown",
   "id": "61bdd223-c8c5-4e05-9b78-4aaf2dc0133a",
   "metadata": {},
   "source": [
    "### 5.2. paleo"
   ]
  },
  {
   "cell_type": "code",
   "execution_count": 33,
   "id": "1c9c5868-45f5-4148-8418-2461908da7fc",
   "metadata": {},
   "outputs": [],
   "source": [
    "# Unigrams\n",
    "\n",
    "p_cvec = CountVectorizer(lowercase=True, \n",
    "                         analyzer='word', \n",
    "                         stop_words=stopwords)\n",
    "\n",
    "paleo_cvec = p_cvec.fit_transform(paleo['title'])\n",
    "\n",
    "paleo_cvec_df = pd.DataFrame(paleo_cvec.todense(), columns = p_cvec.get_feature_names_out())"
   ]
  },
  {
   "cell_type": "code",
   "execution_count": 34,
   "id": "35ae4bb8-9c7b-4d7e-bcc9-6072e730479c",
   "metadata": {},
   "outputs": [
    {
     "data": {
      "text/plain": [
       "(4998, 5582)"
      ]
     },
     "execution_count": 34,
     "metadata": {},
     "output_type": "execute_result"
    }
   ],
   "source": [
    "paleo_cvec_df.shape"
   ]
  },
  {
   "cell_type": "markdown",
   "id": "05115f26-0e0d-4bc1-ac12-c38515c23a46",
   "metadata": {},
   "source": [
    "The CountVectorizer identified 5,582 distinct unigrams in the paleo dataset after removing the stopwords. This is about 400 less than were identified in the plant-based dataset."
   ]
  },
  {
   "cell_type": "code",
   "execution_count": 35,
   "id": "5756352e-e4e4-4c0f-9eb3-ac40606daf4c",
   "metadata": {},
   "outputs": [
    {
     "data": {
      "text/plain": [
       "paleo         1756\n",
       "question       586\n",
       "food           519\n",
       "diet           424\n",
       "pic            381\n",
       "recipe         342\n",
       "keto           282\n",
       "chicken        216\n",
       "weight         188\n",
       "discussion     168\n",
       "free           167\n",
       "eating         164\n",
       "meal           161\n",
       "eat            158\n",
       "blogspam       152\n",
       "dtype: int64"
      ]
     },
     "execution_count": 35,
     "metadata": {},
     "output_type": "execute_result"
    }
   ],
   "source": [
    "paleo_cvec_df.sum().sort_values(ascending=False).head(15)"
   ]
  },
  {
   "cell_type": "code",
   "execution_count": 49,
   "id": "7bb66c9c-a525-4af3-b0e4-e1005e406c56",
   "metadata": {},
   "outputs": [
    {
     "data": {
      "image/png": "[encoded data removed]",
      "text/plain": [
       "<Figure size 432x288 with 1 Axes>"
      ]
     },
     "metadata": {
      "needs_background": "light"
     },
     "output_type": "display_data"
    }
   ],
   "source": [
    "paleo_cvec_df.sum().sort_values(ascending = False).head(15).plot(kind='barh', \n",
    "                                                                 title='15 Most Common Unigrams (paleo)');"
   ]
  },
  {
   "cell_type": "markdown",
   "id": "3880ed6a-416a-4199-a6d1-4b3f7bfc658a",
   "metadata": {},
   "source": [
    "The top 15 paleo unigrams also include general diet terms but include a couple that are likely to set many of the submissions apart from the plant-based submissions, such as keto and chicken."
   ]
  },
  {
   "cell_type": "code",
   "execution_count": 37,
   "id": "e44bf1a9-9099-4baa-9285-54279dd08314",
   "metadata": {},
   "outputs": [],
   "source": [
    "# Bigrams\n",
    "\n",
    "p_cvec2 = CountVectorizer(lowercase=True,\n",
    "                          analyzer='word',\n",
    "                          stop_words=stopwords,\n",
    "                          ngram_range = (2, 2))\n",
    "\n",
    "paleo_cvec2 = p_cvec2.fit_transform(paleo['title'])\n",
    "\n",
    "paleo_cvec_df2 = pd.DataFrame(paleo_cvec2.todense(), columns = p_cvec2.get_feature_names_out())"
   ]
  },
  {
   "cell_type": "code",
   "execution_count": 38,
   "id": "ce24055c-6fdf-4d48-8ca7-429d4285d35e",
   "metadata": {},
   "outputs": [
    {
     "data": {
      "text/plain": [
       "(4998, 18833)"
      ]
     },
     "execution_count": 38,
     "metadata": {},
     "output_type": "execute_result"
    }
   ],
   "source": [
    "paleo_cvec_df2.shape"
   ]
  },
  {
   "cell_type": "markdown",
   "id": "4571a033-6f2a-47eb-9725-d8416d10b41d",
   "metadata": {},
   "source": [
    "The CountVectorizer identified 18,833 distinct bigrams in the paleo dataset after removing the stopwords."
   ]
  },
  {
   "cell_type": "code",
   "execution_count": 39,
   "id": "7c0f2451-dc64-489d-982f-258614aab8c3",
   "metadata": {},
   "outputs": [
    {
     "data": {
      "text/plain": [
       "food pic          366\n",
       "paleo diet        186\n",
       "weight loss        90\n",
       "low carb           70\n",
       "keto paleo         65\n",
       "sweet potato       63\n",
       "paleo friendly     44\n",
       "grass fed          38\n",
       "paleo keto         37\n",
       "lose weight        37\n",
       "new paleo          37\n",
       "gluten free        36\n",
       "question paleo     35\n",
       "bone broth         33\n",
       "sweet potatoes     31\n",
       "dtype: int64"
      ]
     },
     "execution_count": 39,
     "metadata": {},
     "output_type": "execute_result"
    }
   ],
   "source": [
    "paleo_cvec_df2.sum().sort_values(ascending=False).head(15)"
   ]
  },
  {
   "cell_type": "code",
   "execution_count": 40,
   "id": "24344bc1-7f2b-4afb-ad89-0de1699db8ec",
   "metadata": {},
   "outputs": [
    {
     "data": {
      "image/png": "[encoded data removed]",
      "text/plain": [
       "<Figure size 432x288 with 1 Axes>"
      ]
     },
     "metadata": {
      "needs_background": "light"
     },
     "output_type": "display_data"
    }
   ],
   "source": [
    "paleo_cvec_df2.sum().sort_values(ascending = False).head(15).plot(kind='barh', \n",
    "                                                                  title='15 Most Common Bigrams (paleo)');"
   ]
  },
  {
   "cell_type": "markdown",
   "id": "43ef430c-0207-4391-a42f-1243a84fae9a",
   "metadata": {},
   "source": [
    "The top 15 paleo bigrams get more interesting. They include terms such as low carb, grass fed, gluten free and bone broth.\n",
    "\n",
    "Based on these unigram and bigram findings, it seems like the paleo submissions may have a better chance at being identified correctly. "
   ]
  },
  {
   "cell_type": "markdown",
   "id": "9ac25b4d-ef44-4280-9005-6e87eb817892",
   "metadata": {},
   "source": [
    "---\n",
    "## 6. Concatenating DataFrames & Saving to a CSV"
   ]
  },
  {
   "cell_type": "code",
   "execution_count": 50,
   "id": "02e4ea1c-41e1-48d1-9eee-1586901242d8",
   "metadata": {},
   "outputs": [],
   "source": [
    "diets = pd.concat([plant_based, paleo], axis=0).reset_index().drop(columns=['index',\n",
    "                                                                            'title_char_count',\n",
    "                                                                            'title_word_count'])"
   ]
  },
  {
   "cell_type": "markdown",
   "id": "fed0460e-719a-496b-952a-fc3e81b93828",
   "metadata": {},
   "source": [
    "The title_char_count and title_word_count features were being dropped as they didn't seem like features that would make much of a contribution, given that they were too similar."
   ]
  },
  {
   "cell_type": "code",
   "execution_count": 51,
   "id": "e5d53018-4e16-4c5b-8f93-5fa711294d34",
   "metadata": {},
   "outputs": [
    {
     "data": {
      "text/html": [
       "<div>\n",
       "<style scoped>\n",
       "    .dataframe tbody tr th:only-of-type {\n",
       "        vertical-align: middle;\n",
       "    }\n",
       "\n",
       "    .dataframe tbody tr th {\n",
       "        vertical-align: top;\n",
       "    }\n",
       "\n",
       "    .dataframe thead th {\n",
       "        text-align: right;\n",
       "    }\n",
       "</style>\n",
       "<table border=\"1\" class=\"dataframe\">\n",
       "  <thead>\n",
       "    <tr style=\"text-align: right;\">\n",
       "      <th></th>\n",
       "      <th>subreddit</th>\n",
       "      <th>title</th>\n",
       "    </tr>\n",
       "  </thead>\n",
       "  <tbody>\n",
       "    <tr>\n",
       "      <th>0</th>\n",
       "      <td>0</td>\n",
       "      <td>I m having so many health problems from this diet</td>\n",
       "    </tr>\n",
       "    <tr>\n",
       "      <th>1</th>\n",
       "      <td>0</td>\n",
       "      <td>Mercy For Animals encourages White House support of plant based diet</td>\n",
       "    </tr>\n",
       "    <tr>\n",
       "      <th>2</th>\n",
       "      <td>0</td>\n",
       "      <td>Struggling with social  amp  familial stigma backlash contempt</td>\n",
       "    </tr>\n",
       "    <tr>\n",
       "      <th>3</th>\n",
       "      <td>0</td>\n",
       "      <td>Ideas for lunch to take to uni</td>\n",
       "    </tr>\n",
       "    <tr>\n",
       "      <th>4</th>\n",
       "      <td>0</td>\n",
       "      <td>k grants to promote climate friendly plant based diet from Eat the Change</td>\n",
       "    </tr>\n",
       "    <tr>\n",
       "      <th>...</th>\n",
       "      <td>...</td>\n",
       "      <td>...</td>\n",
       "    </tr>\n",
       "    <tr>\n",
       "      <th>9992</th>\n",
       "      <td>1</td>\n",
       "      <td>How can I eat paleo when you re a teen and you re parents buy the food you eat</td>\n",
       "    </tr>\n",
       "    <tr>\n",
       "      <th>9993</th>\n",
       "      <td>1</td>\n",
       "      <td>Battle of the Proteins  Taking on the supplement industry titans    These small Crickets pack a powerful punch  Natural Paleo Wholefood that s definitely worthy of the title  super food</td>\n",
       "    </tr>\n",
       "    <tr>\n",
       "      <th>9994</th>\n",
       "      <td>1</td>\n",
       "      <td>Food Pic  Roasted herb chicken  chicken gizzard  potato skins with green onions  sour cream  amp  cheese  saut ed mushrooms  spinach with olive oil   cooked with olive oil and avocado   oil</td>\n",
       "    </tr>\n",
       "    <tr>\n",
       "      <th>9995</th>\n",
       "      <td>1</td>\n",
       "      <td>Question  Gut bacteria   Paleo</td>\n",
       "    </tr>\n",
       "    <tr>\n",
       "      <th>9996</th>\n",
       "      <td>1</td>\n",
       "      <td>Paleo Junk Food  Chocolate Milk</td>\n",
       "    </tr>\n",
       "  </tbody>\n",
       "</table>\n",
       "<p>9997 rows × 2 columns</p>\n",
       "</div>"
      ],
      "text/plain": [
       "      subreddit  \\\n",
       "0             0   \n",
       "1             0   \n",
       "2             0   \n",
       "3             0   \n",
       "4             0   \n",
       "...         ...   \n",
       "9992          1   \n",
       "9993          1   \n",
       "9994          1   \n",
       "9995          1   \n",
       "9996          1   \n",
       "\n",
       "                                                                                                                                                                                               title  \n",
       "0                                                                                                                                                  I m having so many health problems from this diet  \n",
       "1                                                                                                                               Mercy For Animals encourages White House support of plant based diet  \n",
       "2                                                                                                                                     Struggling with social  amp  familial stigma backlash contempt  \n",
       "3                                                                                                                                                                     Ideas for lunch to take to uni  \n",
       "4                                                                                                                          k grants to promote climate friendly plant based diet from Eat the Change  \n",
       "...                                                                                                                                                                                              ...  \n",
       "9992                                                                                                                  How can I eat paleo when you re a teen and you re parents buy the food you eat  \n",
       "9993     Battle of the Proteins  Taking on the supplement industry titans    These small Crickets pack a powerful punch  Natural Paleo Wholefood that s definitely worthy of the title  super food    \n",
       "9994   Food Pic  Roasted herb chicken  chicken gizzard  potato skins with green onions  sour cream  amp  cheese  saut ed mushrooms  spinach with olive oil   cooked with olive oil and avocado   oil  \n",
       "9995                                                                                                                                                                  Question  Gut bacteria   Paleo  \n",
       "9996                                                                                                                                                                 Paleo Junk Food  Chocolate Milk  \n",
       "\n",
       "[9997 rows x 2 columns]"
      ]
     },
     "execution_count": 51,
     "metadata": {},
     "output_type": "execute_result"
    }
   ],
   "source": [
    "diets"
   ]
  },
  {
   "cell_type": "code",
   "execution_count": 42,
   "id": "b9a4a3a9-d3d5-4b1f-87a4-a9e27f766310",
   "metadata": {},
   "outputs": [],
   "source": [
    "diets.to_csv('../data/diets.csv', index=False)"
   ]
  }
 ],
 "metadata": {
  "kernelspec": {
   "display_name": "Python 3 (ipykernel)",
   "language": "python",
   "name": "python3"
  },
  "language_info": {
   "codemirror_mode": {
    "name": "ipython",
    "version": 3
   },
   "file_extension": ".py",
   "mimetype": "text/x-python",
   "name": "python",
   "nbconvert_exporter": "python",
   "pygments_lexer": "ipython3",
   "version": "3.9.7"
  }
 },
 "nbformat": 4,
 "nbformat_minor": 5
}
